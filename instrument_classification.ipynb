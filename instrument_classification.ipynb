{
 "cells": [
  {
   "cell_type": "code",
   "execution_count": 1,
   "id": "03e1cea6",
   "metadata": {},
   "outputs": [
    {
     "ename": "ModuleNotFoundError",
     "evalue": "No module named 'tensorflow_hub'",
     "output_type": "error",
     "traceback": [
      "\u001b[0;31m---------------------------------------------------------------------------\u001b[0m",
      "\u001b[0;31mModuleNotFoundError\u001b[0m                       Traceback (most recent call last)",
      "Cell \u001b[0;32mIn[1], line 8\u001b[0m\n\u001b[1;32m      6\u001b[0m \u001b[38;5;28;01mfrom\u001b[39;00m \u001b[38;5;21;01msklearn\u001b[39;00m \u001b[38;5;28;01mimport\u001b[39;00m decomposition\n\u001b[1;32m      7\u001b[0m \u001b[38;5;28;01mimport\u001b[39;00m \u001b[38;5;21;01mmatplotlib\u001b[39;00m\u001b[38;5;21;01m.\u001b[39;00m\u001b[38;5;21;01mpyplot\u001b[39;00m \u001b[38;5;28;01mas\u001b[39;00m \u001b[38;5;21;01mplt\u001b[39;00m\n\u001b[0;32m----> 8\u001b[0m \u001b[38;5;28;01mimport\u001b[39;00m \u001b[38;5;21;01mtensorflow_hub\u001b[39;00m \u001b[38;5;28;01mas\u001b[39;00m \u001b[38;5;21;01mhub\u001b[39;00m\n\u001b[1;32m      9\u001b[0m \u001b[38;5;28;01mimport\u001b[39;00m \u001b[38;5;21;01mconfig\u001b[39;00m \u001b[38;5;28;01mas\u001b[39;00m \u001b[38;5;21;01mconfig\u001b[39;00m\n\u001b[1;32m     10\u001b[0m \u001b[38;5;28;01mimport\u001b[39;00m \u001b[38;5;21;01mpandas\u001b[39;00m \u001b[38;5;28;01mas\u001b[39;00m \u001b[38;5;21;01mpd\u001b[39;00m\n",
      "\u001b[0;31mModuleNotFoundError\u001b[0m: No module named 'tensorflow_hub'"
     ]
    }
   ],
   "source": [
    "# -*- coding: utf-8 -*-\n",
    "from maincode.function import load_json\n",
    "import glob\n",
    "import os\n",
    "from sklearn.cluster import KMeans\n",
    "from sklearn import decomposition\n",
    "import matplotlib.pyplot as plt\n",
    "import tensorflow_hub as hub\n",
    "import config as config\n",
    "import pandas as pd\n",
    "import tensorflow as tf\n",
    "import librosa\n",
    "import random\n",
    "import numpy as np\n",
    "import pandas as pd\n",
    "import config as config\n",
    "from maincode.trainer import ModelTrainer\n",
    "from maincode.dataloader import AudioDataLoader\n",
    "from models.dense import DenseClassifier\n",
    "from maincode.function import set_seeds, export_hyperparams"
   ]
  },
  {
   "cell_type": "markdown",
   "id": "9ed63a67-c044-4ed1-83c3-4c7d8cf02e61",
   "metadata": {},
   "source": [
    "##Predefined handlers"
   ]
  },
  {
   "cell_type": "code",
   "execution_count": 3,
   "id": "d76d3eca",
   "metadata": {},
   "outputs": [],
   "source": [
    "class Augmentations:\n",
    "    \"\"\"Audio augmentations\"\"\"\n",
    "\n",
    "    def __init__(self):\n",
    "        pass\n",
    "\n",
    "    def time_stretch(self, audio, rate=None):\n",
    "        if rate is None:\n",
    "            rate = random.uniform(0.8, 1.2)  # random rate between 0.8x and 1.2x\n",
    "        return librosa.effects.time_stretch(y=audio, rate=rate)\n",
    "\n",
    "    def pitch_shift(self, audio, sr, n_steps=None):\n",
    "        if n_steps is None:\n",
    "            n_steps = random.uniform(-1, 1)  # random pitch shift between -1 and 1\n",
    "        return librosa.effects.pitch_shift(y=audio, sr=sr, n_steps=n_steps)\n",
    "\n",
    "    def add_noise(self, audio, noise_level=None):\n",
    "        if noise_level is None:\n",
    "            noise_level = random.uniform(0.001, 0.005)  # add random noise\n",
    "        noise = np.random.randn(len(audio))\n",
    "        return audio + noise_level * noise\n",
    "\n",
    "    def random_crop(self, audio, sr, target_duration):\n",
    "        target_length = int(sr * target_duration)\n",
    "        if len(audio) >= target_length:\n",
    "            start = random.randint(0, len(audio) - target_length)\n",
    "            return audio[start : start + target_length]\n",
    "        return audio\n",
    "\n",
    "    def change_volume(self, audio, volume_change=None):\n",
    "        if volume_change is None:\n",
    "            volume_change = random.uniform(0.5, 1.5)  # random volume change\n",
    "        return audio * volume_change\n",
    "\n",
    "    def pad_clip(self, audio, sr, target_duration):\n",
    "        target_length = int(sr * target_duration)\n",
    "        if len(audio) < target_length:\n",
    "            audio = np.pad(audio, (0, target_length - len(audio)))\n",
    "        elif len(audio) > target_length:\n",
    "            audio = audio[:target_length]\n",
    "        return audio\n",
    "\n",
    "    def apply_augmentations(self, audio, sr, target_duration):\n",
    "        audio = self.time_stretch(audio)\n",
    "        audio = self.pitch_shift(audio, sr)\n",
    "        audio = self.add_noise(audio)\n",
    "        audio = self.change_volume(audio)\n",
    "        audio = self.random_crop(audio, sr, target_duration)\n",
    "        audio = self.pad_clip(audio, sr, target_duration)\n",
    "        return audio\n",
    "\n",
    "def _bytes_feature(value):\n",
    "    \"\"\"Returns a bytes_list from a string / byte.\"\"\"\n",
    "    if isinstance(value, type(tf.constant(0))):\n",
    "        value = value.numpy()\n",
    "    return tf.train.Feature(bytes_list=tf.train.BytesList(value=[value]))\n",
    "\n",
    "\n",
    "def _float_feature(value):\n",
    "    \"\"\"Returns a float_list from a float / double.\"\"\"\n",
    "    return tf.train.Feature(float_list=tf.train.FloatList(value=[value]))\n",
    "\n",
    "\n",
    "def _int64_feature(value):\n",
    "    \"\"\"Returns an int64_list from a bool / enum / int / uint.\"\"\"\n",
    "    return tf.train.Feature(int64_list=tf.train.Int64List(value=[value]))\n",
    "\n",
    "\n",
    "def serialize(embedding, label):\n",
    "    \"\"\"Serialize the embeddings and label to a tfrecord proto.\"\"\"\n",
    "    feature = {\n",
    "        \"feature\": _bytes_feature(tf.io.serialize_tensor(embedding)),\n",
    "        \"label\": _int64_feature(label),\n",
    "    }\n",
    "    proto = tf.train.Example(features=tf.train.Features(feature=feature))\n",
    "    return proto.SerializeToString()\n",
    "\n",
    "\n",
    "def write_tfrecord(target_path, embeddings, label):\n",
    "    \"\"\"Write the embeddings and label to a tfrecord file.\"\"\"\n",
    "    # wintarget_path=target_path.split('\\\\')\n",
    "    # tfwintarget_path=os.path.join(wintarget_path[0],wintarget_path[1])\n",
    "    # if not os.path.exists(tfwintarget_path):\n",
    "    #     os.makedirs(tfwintarget_path)\n",
    "    with tf.io.TFRecordWriter(target_path) as writer:\n",
    "        serialized_example = serialize(embeddings.numpy(), label)\n",
    "        writer.write(serialized_example)\n",
    "\n",
    "\n",
    "def consolidate_labels(labels_path):\n",
    "    \"\"\"Consolidate the labels to the highest relevance instrument per class.\"\"\"\n",
    "    agg_labels = pd.read_csv(labels_path)\n",
    "    agg_labels = (\n",
    "        agg_labels.groupby(\"sample_key\")\n",
    "        .agg({\"instrument\": lambda x: x.iloc[np.argmax(x.values)]})\n",
    "        .reset_index()\n",
    "    )\n",
    "    return agg_labels\n",
    "\n",
    "\n",
    "def load_label(labels_df, class_map, file_name):\n",
    "    \"\"\"Load the label for a given file name.\"\"\"\n",
    "    file_name = file_name.split(\"\\\\\")[-1].split(\".\")[0]\n",
    "    label = labels_df.loc[labels_df[\"sample_key\"] == file_name, \"instrument\"].values[0]\n",
    "    label_index = class_map[label]\n",
    "    return label_index\n",
    "\n",
    "\n",
    "def pad_clip(audio, sr, target_duration):\n",
    "    target_length = int(sr * target_duration)\n",
    "    if len(audio) < target_length:\n",
    "        audio = np.pad(audio, (0, target_length - len(audio)))\n",
    "    elif len(audio) > target_length:\n",
    "        audio = audio[:target_length]\n",
    "    return audio\n",
    "\n",
    "\n",
    "def load_and_preprocess_audio(\n",
    "    model, model_name, out_dim, file_path, target_duration=10, target_sr=16000\n",
    "):\n",
    "    \"\"\"Load, resample and feature extract from the audio files.\"\"\"\n",
    "    audio, sr = librosa.load(file_path, sr=None, mono=True)  # load audio\n",
    "\n",
    "    if sr != target_sr:  # resample as needed\n",
    "        audio = librosa.resample(y=audio, orig_sr=sr, target_sr=target_sr)\n",
    "        sr = target_sr\n",
    "\n",
    "    if config.AUGMENT:\n",
    "        audio = augmentations.apply_augmentations(audio, sr, target_duration)\n",
    "\n",
    "    else:\n",
    "        audio = pad_clip(audio, sr, target_duration)\n",
    "\n",
    "    # forward pass to get the embeddings\n",
    "    output = model(audio)\n",
    "\n",
    "    if model_name == \"vggish\":\n",
    "        embeddings = output\n",
    "    elif model_name == \"yamnet\":\n",
    "        _, embeddings, log_mel_spectrogram = output\n",
    "\n",
    "    else:\n",
    "        raise ValueError(\"Invalid model name\")\n",
    "\n",
    "    # sanity check\n",
    "    embeddings.shape.assert_is_compatible_with([None, out_dim])\n",
    "\n",
    "    return embeddings\n",
    "\n"
   ]
  },
  {
   "cell_type": "markdown",
   "id": "950e81b8-c5dc-4c74-bc54-3c516e20902e",
   "metadata": {},
   "source": [
    "#preprocess and EDA"
   ]
  },
  {
   "cell_type": "code",
   "execution_count": 6,
   "id": "c59a29de",
   "metadata": {},
   "outputs": [
    {
     "name": "stdout",
     "output_type": "stream",
     "text": [
      "Data table format\n",
      "\n",
      "          sample_key instrument\n",
      "0        000046_3840    trumpet\n",
      "1      000135_483840      voice\n",
      "2      000139_119040  accordion\n",
      "3      000141_153600   clarinet\n",
      "4       000144_30720    ukulele\n",
      "...              ...        ...\n",
      "19995  155294_184320     violin\n",
      "19996   155295_76800     violin\n",
      "19997  155307_211200   trombone\n",
      "19998  155310_372480  saxophone\n",
      "19999  155311_453120    trumpet\n",
      "\n",
      "[20000 rows x 2 columns]\n",
      "Category histogram for each class\n",
      "\n"
     ]
    },
    {
     "data": {
      "image/png": "[encoded data removed]",
      "text/plain": [
       "<Figure size 640x480 with 1 Axes>"
      ]
     },
     "metadata": {},
     "output_type": "display_data"
    },
    {
     "name": "stderr",
     "output_type": "stream",
     "text": [
      "C:\\Users\\26387\\anaconda3\\envs\\tfkeras\\Lib\\site-packages\\sklearn\\cluster\\_kmeans.py:1416: FutureWarning: The default value of `n_init` will change from 10 to 'auto' in 1.4. Set the value of `n_init` explicitly to suppress the warning\n",
      "  super()._check_params_vs_input(X, default_n_init=10)\n"
     ]
    },
    {
     "name": "stdout",
     "output_type": "stream",
     "text": [
      "data cluster after PCA\n",
      "\n"
     ]
    },
    {
     "data": {
      "image/png": "[encoded data removed]",
      "text/plain": [
       "<Figure size 640x480 with 1 Axes>"
      ]
     },
     "metadata": {},
     "output_type": "display_data"
    }
   ],
   "source": [
    "###get the vggisg feature extract model\n",
    "model_name, model_args=list(config.MODELS.items())[0]\n",
    "model_url = model_args.get(\"url\")\n",
    "out_dim = model_args.get(\"out_dim\")\n",
    "model = hub.load(model_url)\n",
    "##get filepath\n",
    "filepaths = glob.glob(f\"{config.AUDIO_DIR}\\\\*\\\\*.ogg\")\n",
    "target_filepaths = [\"\\\\\".join(fp.split(\"\\\\\")[-1:]) for fp in filepaths]\n",
    "fpath=os.path.join(config.TARGET_AUDIO_DIR,model_name+\"_features\")\n",
    "if not os.path.exists(fpath):\n",
    "    os.mkdir(fpath)\n",
    "labels_df = consolidate_labels(config.LABELS_PATH)\n",
    "print('Data table format\\n')\n",
    "print(labels_df)\n",
    "###\n",
    "instrum=['accordion', 'banjo', 'bass', 'cello', 'clarinet',\n",
    "'cymbals', 'drums', 'flute', 'guitar', 'mallet_percussion', 'mandolin', 'organ', 'piano', 'saxophone', 'synthesizer',\n",
    "'trombone', 'trumpet', 'ukulele', 'violin', 'voice']\n",
    "num=[]\n",
    "##Category histogram for EDA\n",
    "for i in instrum:\n",
    "    num.append(list(labels_df['instrument']).count(i))\n",
    "num=np.asarray(num)\n",
    "print('Category histogram for each class\\n')\n",
    "plt.barh(instrum, width=num)\n",
    "plt.show()\n",
    "###all instrument class\n",
    "class_map = load_json(config.LABELS_MAP_PATH)\n",
    "#  augmentations\n",
    "augmentations = Augmentations()\n",
    "# preprocess each file and save to thrcord\n",
    "audioembed=[]\n",
    "##get the embedding and label for each file\n",
    "for i in range(len(filepaths)):\n",
    "    fp=filepaths[i]\n",
    "    target_path = f\"{config.TARGET_AUDIO_DIR}\\\\{model_name}_features\\\\{target_filepaths[i]}\".replace(\".ogg\", \".tfrecord\")\n",
    "    embeddings = load_and_preprocess_audio(model,model_name,out_dim,fp,\n",
    "    target_duration=config.TARGET_DURATION,target_sr=config.TARGET_SAMPLE_RATE,)\n",
    "    reemb=np.asarray(embeddings).reshape(1280)\n",
    "    audioembed.append(reemb)\n",
    "    label = load_label(labels_df=labels_df,class_map=class_map,file_name=target_filepaths[i],)\n",
    "    write_tfrecord(target_path, embeddings, label)\n",
    "###do PCA and cluster for EDA\n",
    "model = decomposition.PCA(n_components=2)\n",
    "model.fit(audioembed)\n",
    "new = model.fit_transform(audioembed)\n",
    "y_pred = KMeans(n_clusters=20, random_state=9).fit_predict(new)\n",
    "print('data cluster after PCA\\n')\n",
    "plt.scatter(new[:, 0], new[:, 1], c=y_pred)\n",
    "plt.show()\n"
   ]
  },
  {
   "cell_type": "markdown",
   "id": "f091a7f8-2d3e-4a01-8449-d18edeef215d",
   "metadata": {},
   "source": [
    "###train and output the metrics"
   ]
  },
  {
   "cell_type": "code",
   "execution_count": 8,
   "id": "b151fbed-5856-43c8-9b57-a2571c4a5475",
   "metadata": {},
   "outputs": [
    {
     "name": "stdout",
     "output_type": "stream",
     "text": [
      "Epoch 1/100\n",
      "     77/Unknown - 3s 7ms/step - loss: 12.5384 - precision_1: 0.7998 - recall_1: 0.0721 - f1_score: 0.3706WARNING:tensorflow:Early stopping conditioned on metric `val_loss` which is not available. Available metrics are: loss,precision_1,recall_1,f1_score\n"
     ]
    },
    {
     "name": "stderr",
     "output_type": "stream",
     "text": [
      "WARNING:tensorflow:Early stopping conditioned on metric `val_loss` which is not available. Available metrics are: loss,precision_1,recall_1,f1_score\n"
     ]
    },
    {
     "name": "stdout",
     "output_type": "stream",
     "text": [
      "82/82 [==============================] - 3s 8ms/step - loss: 12.4550 - precision_1: 0.8022 - recall_1: 0.0769 - f1_score: 0.3767\n",
      "Epoch 2/100\n",
      "80/82 [============================>.] - ETA: 0s - loss: 9.7982 - precision_1: 0.8066 - recall_1: 0.1963 - f1_score: 0.5094WARNING:tensorflow:Early stopping conditioned on metric `val_loss` which is not available. Available metrics are: loss,precision_1,recall_1,f1_score\n"
     ]
    },
    {
     "name": "stderr",
     "output_type": "stream",
     "text": [
      "WARNING:tensorflow:Early stopping conditioned on metric `val_loss` which is not available. Available metrics are: loss,precision_1,recall_1,f1_score\n"
     ]
    },
    {
     "name": "stdout",
     "output_type": "stream",
     "text": [
      "82/82 [==============================] - 2s 8ms/step - loss: 9.7770 - precision_1: 0.8063 - recall_1: 0.1978 - f1_score: 0.5101\n",
      "Epoch 3/100\n",
      "74/82 [==========================>...] - ETA: 0s - loss: 7.9474 - precision_1: 0.8134 - recall_1: 0.2452 - f1_score: 0.5474WARNING:tensorflow:Early stopping conditioned on metric `val_loss` which is not available. Available metrics are: loss,precision_1,recall_1,f1_score\n"
     ]
    },
    {
     "name": "stderr",
     "output_type": "stream",
     "text": [
      "WARNING:tensorflow:Early stopping conditioned on metric `val_loss` which is not available. Available metrics are: loss,precision_1,recall_1,f1_score\n"
     ]
    },
    {
     "name": "stdout",
     "output_type": "stream",
     "text": [
      "82/82 [==============================] - 2s 7ms/step - loss: 7.8772 - precision_1: 0.8113 - recall_1: 0.2458 - f1_score: 0.5472\n",
      "Epoch 4/100\n",
      "76/82 [==========================>...] - ETA: 0s - loss: 6.5071 - precision_1: 0.8098 - recall_1: 0.2810 - f1_score: 0.5676WARNING:tensorflow:Early stopping conditioned on metric `val_loss` which is not available. Available metrics are: loss,precision_1,recall_1,f1_score\n"
     ]
    },
    {
     "name": "stderr",
     "output_type": "stream",
     "text": [
      "WARNING:tensorflow:Early stopping conditioned on metric `val_loss` which is not available. Available metrics are: loss,precision_1,recall_1,f1_score\n"
     ]
    },
    {
     "name": "stdout",
     "output_type": "stream",
     "text": [
      "82/82 [==============================] - 2s 6ms/step - loss: 6.4646 - precision_1: 0.8079 - recall_1: 0.2816 - f1_score: 0.5682\n",
      "Epoch 5/100\n",
      "79/82 [===========================>..] - ETA: 0s - loss: 5.3987 - precision_1: 0.8175 - recall_1: 0.2972 - f1_score: 0.5879WARNING:tensorflow:Early stopping conditioned on metric `val_loss` which is not available. Available metrics are: loss,precision_1,recall_1,f1_score\n"
     ]
    },
    {
     "name": "stderr",
     "output_type": "stream",
     "text": [
      "WARNING:tensorflow:Early stopping conditioned on metric `val_loss` which is not available. Available metrics are: loss,precision_1,recall_1,f1_score\n"
     ]
    },
    {
     "name": "stdout",
     "output_type": "stream",
     "text": [
      "82/82 [==============================] - 2s 7ms/step - loss: 5.3830 - precision_1: 0.8191 - recall_1: 0.2979 - f1_score: 0.5889\n",
      "Epoch 6/100\n",
      "75/82 [==========================>...] - ETA: 0s - loss: 4.5895 - precision_1: 0.8224 - recall_1: 0.3178 - f1_score: 0.5969WARNING:tensorflow:Early stopping conditioned on metric `val_loss` which is not available. Available metrics are: loss,precision_1,recall_1,f1_score\n"
     ]
    },
    {
     "name": "stderr",
     "output_type": "stream",
     "text": [
      "WARNING:tensorflow:Early stopping conditioned on metric `val_loss` which is not available. Available metrics are: loss,precision_1,recall_1,f1_score\n"
     ]
    },
    {
     "name": "stdout",
     "output_type": "stream",
     "text": [
      "82/82 [==============================] - 2s 7ms/step - loss: 4.5612 - precision_1: 0.8224 - recall_1: 0.3181 - f1_score: 0.5976\n",
      "Epoch 7/100\n",
      "81/82 [============================>.] - ETA: 0s - loss: 3.9271 - precision_1: 0.8195 - recall_1: 0.3257 - f1_score: 0.6067WARNING:tensorflow:Early stopping conditioned on metric `val_loss` which is not available. Available metrics are: loss,precision_1,recall_1,f1_score\n"
     ]
    },
    {
     "name": "stderr",
     "output_type": "stream",
     "text": [
      "WARNING:tensorflow:Early stopping conditioned on metric `val_loss` which is not available. Available metrics are: loss,precision_1,recall_1,f1_score\n"
     ]
    },
    {
     "name": "stdout",
     "output_type": "stream",
     "text": [
      "82/82 [==============================] - 2s 8ms/step - loss: 3.9257 - precision_1: 0.8200 - recall_1: 0.3259 - f1_score: 0.6068\n",
      "Epoch 8/100\n",
      "81/82 [============================>.] - ETA: 0s - loss: 3.4401 - precision_1: 0.8243 - recall_1: 0.3388 - f1_score: 0.6123WARNING:tensorflow:Early stopping conditioned on metric `val_loss` which is not available. Available metrics are: loss,precision_1,recall_1,f1_score\n"
     ]
    },
    {
     "name": "stderr",
     "output_type": "stream",
     "text": [
      "WARNING:tensorflow:Early stopping conditioned on metric `val_loss` which is not available. Available metrics are: loss,precision_1,recall_1,f1_score\n"
     ]
    },
    {
     "name": "stdout",
     "output_type": "stream",
     "text": [
      "82/82 [==============================] - 2s 7ms/step - loss: 3.4380 - precision_1: 0.8246 - recall_1: 0.3391 - f1_score: 0.6120\n",
      "Epoch 9/100\n",
      "79/82 [===========================>..] - ETA: 0s - loss: 3.0557 - precision_1: 0.8279 - recall_1: 0.3478 - f1_score: 0.6155WARNING:tensorflow:Early stopping conditioned on metric `val_loss` which is not available. Available metrics are: loss,precision_1,recall_1,f1_score\n"
     ]
    },
    {
     "name": "stderr",
     "output_type": "stream",
     "text": [
      "WARNING:tensorflow:Early stopping conditioned on metric `val_loss` which is not available. Available metrics are: loss,precision_1,recall_1,f1_score\n"
     ]
    },
    {
     "name": "stdout",
     "output_type": "stream",
     "text": [
      "82/82 [==============================] - 2s 8ms/step - loss: 3.0511 - precision_1: 0.8281 - recall_1: 0.3475 - f1_score: 0.6155\n",
      "Epoch 10/100\n",
      "78/82 [===========================>..] - ETA: 0s - loss: 2.7514 - precision_1: 0.8347 - recall_1: 0.3541 - f1_score: 0.6263WARNING:tensorflow:Early stopping conditioned on metric `val_loss` which is not available. Available metrics are: loss,precision_1,recall_1,f1_score\n"
     ]
    },
    {
     "name": "stderr",
     "output_type": "stream",
     "text": [
      "WARNING:tensorflow:Early stopping conditioned on metric `val_loss` which is not available. Available metrics are: loss,precision_1,recall_1,f1_score\n"
     ]
    },
    {
     "name": "stdout",
     "output_type": "stream",
     "text": [
      "82/82 [==============================] - 2s 7ms/step - loss: 2.7448 - precision_1: 0.8337 - recall_1: 0.3545 - f1_score: 0.6267\n",
      "Epoch 11/100\n",
      "77/82 [===========================>..] - ETA: 0s - loss: 2.5191 - precision_1: 0.8253 - recall_1: 0.3585 - f1_score: 0.6248WARNING:tensorflow:Early stopping conditioned on metric `val_loss` which is not available. Available metrics are: loss,precision_1,recall_1,f1_score\n"
     ]
    },
    {
     "name": "stderr",
     "output_type": "stream",
     "text": [
      "WARNING:tensorflow:Early stopping conditioned on metric `val_loss` which is not available. Available metrics are: loss,precision_1,recall_1,f1_score\n"
     ]
    },
    {
     "name": "stdout",
     "output_type": "stream",
     "text": [
      "82/82 [==============================] - 2s 8ms/step - loss: 2.5111 - precision_1: 0.8274 - recall_1: 0.3586 - f1_score: 0.6272\n",
      "Epoch 12/100\n",
      "76/82 [==========================>...] - ETA: 0s - loss: 2.3151 - precision_1: 0.8342 - recall_1: 0.3744 - f1_score: 0.6344WARNING:tensorflow:Early stopping conditioned on metric `val_loss` which is not available. Available metrics are: loss,precision_1,recall_1,f1_score\n"
     ]
    },
    {
     "name": "stderr",
     "output_type": "stream",
     "text": [
      "WARNING:tensorflow:Early stopping conditioned on metric `val_loss` which is not available. Available metrics are: loss,precision_1,recall_1,f1_score\n"
     ]
    },
    {
     "name": "stdout",
     "output_type": "stream",
     "text": [
      "82/82 [==============================] - 2s 7ms/step - loss: 2.3179 - precision_1: 0.8348 - recall_1: 0.3718 - f1_score: 0.6308\n",
      "Epoch 13/100\n",
      "80/82 [============================>.] - ETA: 0s - loss: 2.1667 - precision_1: 0.8373 - recall_1: 0.3724 - f1_score: 0.6370WARNING:tensorflow:Early stopping conditioned on metric `val_loss` which is not available. Available metrics are: loss,precision_1,recall_1,f1_score\n"
     ]
    },
    {
     "name": "stderr",
     "output_type": "stream",
     "text": [
      "WARNING:tensorflow:Early stopping conditioned on metric `val_loss` which is not available. Available metrics are: loss,precision_1,recall_1,f1_score\n"
     ]
    },
    {
     "name": "stdout",
     "output_type": "stream",
     "text": [
      "82/82 [==============================] - 2s 8ms/step - loss: 2.1661 - precision_1: 0.8371 - recall_1: 0.3716 - f1_score: 0.6367\n",
      "Epoch 14/100\n",
      "78/82 [===========================>..] - ETA: 0s - loss: 2.0416 - precision_1: 0.8371 - recall_1: 0.3787 - f1_score: 0.6401WARNING:tensorflow:Early stopping conditioned on metric `val_loss` which is not available. Available metrics are: loss,precision_1,recall_1,f1_score\n"
     ]
    },
    {
     "name": "stderr",
     "output_type": "stream",
     "text": [
      "WARNING:tensorflow:Early stopping conditioned on metric `val_loss` which is not available. Available metrics are: loss,precision_1,recall_1,f1_score\n"
     ]
    },
    {
     "name": "stdout",
     "output_type": "stream",
     "text": [
      "82/82 [==============================] - 2s 8ms/step - loss: 2.0382 - precision_1: 0.8369 - recall_1: 0.3785 - f1_score: 0.6408\n",
      "Epoch 15/100\n",
      "82/82 [==============================] - ETA: 0s - loss: 1.9412 - precision_1: 0.8403 - recall_1: 0.3831 - f1_score: 0.6424WARNING:tensorflow:Early stopping conditioned on metric `val_loss` which is not available. Available metrics are: loss,precision_1,recall_1,f1_score\n"
     ]
    },
    {
     "name": "stderr",
     "output_type": "stream",
     "text": [
      "WARNING:tensorflow:Early stopping conditioned on metric `val_loss` which is not available. Available metrics are: loss,precision_1,recall_1,f1_score\n"
     ]
    },
    {
     "name": "stdout",
     "output_type": "stream",
     "text": [
      "82/82 [==============================] - 2s 7ms/step - loss: 1.9412 - precision_1: 0.8403 - recall_1: 0.3831 - f1_score: 0.6424\n",
      "Epoch 16/100\n",
      "80/82 [============================>.] - ETA: 0s - loss: 1.8640 - precision_1: 0.8405 - recall_1: 0.3859 - f1_score: 0.6466WARNING:tensorflow:Early stopping conditioned on metric `val_loss` which is not available. Available metrics are: loss,precision_1,recall_1,f1_score\n"
     ]
    },
    {
     "name": "stderr",
     "output_type": "stream",
     "text": [
      "WARNING:tensorflow:Early stopping conditioned on metric `val_loss` which is not available. Available metrics are: loss,precision_1,recall_1,f1_score\n"
     ]
    },
    {
     "name": "stdout",
     "output_type": "stream",
     "text": [
      "82/82 [==============================] - 2s 7ms/step - loss: 1.8644 - precision_1: 0.8394 - recall_1: 0.3854 - f1_score: 0.6458\n",
      "Epoch 17/100\n",
      "81/82 [============================>.] - ETA: 0s - loss: 1.7941 - precision_1: 0.8423 - recall_1: 0.3864 - f1_score: 0.6445WARNING:tensorflow:Early stopping conditioned on metric `val_loss` which is not available. Available metrics are: loss,precision_1,recall_1,f1_score\n"
     ]
    },
    {
     "name": "stderr",
     "output_type": "stream",
     "text": [
      "WARNING:tensorflow:Early stopping conditioned on metric `val_loss` which is not available. Available metrics are: loss,precision_1,recall_1,f1_score\n"
     ]
    },
    {
     "name": "stdout",
     "output_type": "stream",
     "text": [
      "82/82 [==============================] - 2s 8ms/step - loss: 1.7953 - precision_1: 0.8416 - recall_1: 0.3862 - f1_score: 0.6440\n",
      "Epoch 18/100\n",
      "79/82 [===========================>..] - ETA: 0s - loss: 1.7363 - precision_1: 0.8434 - recall_1: 0.3946 - f1_score: 0.6509WARNING:tensorflow:Early stopping conditioned on metric `val_loss` which is not available. Available metrics are: loss,precision_1,recall_1,f1_score\n"
     ]
    },
    {
     "name": "stderr",
     "output_type": "stream",
     "text": [
      "WARNING:tensorflow:Early stopping conditioned on metric `val_loss` which is not available. Available metrics are: loss,precision_1,recall_1,f1_score\n"
     ]
    },
    {
     "name": "stdout",
     "output_type": "stream",
     "text": [
      "82/82 [==============================] - 2s 7ms/step - loss: 1.7389 - precision_1: 0.8416 - recall_1: 0.3938 - f1_score: 0.6498\n",
      "Epoch 19/100\n",
      "79/82 [===========================>..] - ETA: 0s - loss: 1.6888 - precision_1: 0.8446 - recall_1: 0.4015 - f1_score: 0.6564WARNING:tensorflow:Early stopping conditioned on metric `val_loss` which is not available. Available metrics are: loss,precision_1,recall_1,f1_score\n"
     ]
    },
    {
     "name": "stderr",
     "output_type": "stream",
     "text": [
      "WARNING:tensorflow:Early stopping conditioned on metric `val_loss` which is not available. Available metrics are: loss,precision_1,recall_1,f1_score\n"
     ]
    },
    {
     "name": "stdout",
     "output_type": "stream",
     "text": [
      "82/82 [==============================] - 2s 7ms/step - loss: 1.6904 - precision_1: 0.8451 - recall_1: 0.4008 - f1_score: 0.6552\n",
      "Epoch 20/100\n",
      "81/82 [============================>.] - ETA: 0s - loss: 1.6505 - precision_1: 0.8409 - recall_1: 0.4017 - f1_score: 0.6525WARNING:tensorflow:Early stopping conditioned on metric `val_loss` which is not available. Available metrics are: loss,precision_1,recall_1,f1_score\n"
     ]
    },
    {
     "name": "stderr",
     "output_type": "stream",
     "text": [
      "WARNING:tensorflow:Early stopping conditioned on metric `val_loss` which is not available. Available metrics are: loss,precision_1,recall_1,f1_score\n"
     ]
    },
    {
     "name": "stdout",
     "output_type": "stream",
     "text": [
      "82/82 [==============================] - 2s 7ms/step - loss: 1.6506 - precision_1: 0.8409 - recall_1: 0.4015 - f1_score: 0.6525\n",
      "Epoch 21/100\n",
      "82/82 [==============================] - ETA: 0s - loss: 1.6205 - precision_1: 0.8435 - recall_1: 0.3990 - f1_score: 0.6558WARNING:tensorflow:Early stopping conditioned on metric `val_loss` which is not available. Available metrics are: loss,precision_1,recall_1,f1_score\n"
     ]
    },
    {
     "name": "stderr",
     "output_type": "stream",
     "text": [
      "WARNING:tensorflow:Early stopping conditioned on metric `val_loss` which is not available. Available metrics are: loss,precision_1,recall_1,f1_score\n"
     ]
    },
    {
     "name": "stdout",
     "output_type": "stream",
     "text": [
      "82/82 [==============================] - 2s 7ms/step - loss: 1.6205 - precision_1: 0.8435 - recall_1: 0.3990 - f1_score: 0.6558\n",
      "Epoch 22/100\n",
      "80/82 [============================>.] - ETA: 0s - loss: 1.5898 - precision_1: 0.8520 - recall_1: 0.4087 - f1_score: 0.6565WARNING:tensorflow:Early stopping conditioned on metric `val_loss` which is not available. Available metrics are: loss,precision_1,recall_1,f1_score\n"
     ]
    },
    {
     "name": "stderr",
     "output_type": "stream",
     "text": [
      "WARNING:tensorflow:Early stopping conditioned on metric `val_loss` which is not available. Available metrics are: loss,precision_1,recall_1,f1_score\n"
     ]
    },
    {
     "name": "stdout",
     "output_type": "stream",
     "text": [
      "82/82 [==============================] - 2s 8ms/step - loss: 1.5936 - precision_1: 0.8515 - recall_1: 0.4074 - f1_score: 0.6554\n",
      "Epoch 23/100\n",
      "76/82 [==========================>...] - ETA: 0s - loss: 1.5586 - precision_1: 0.8426 - recall_1: 0.4144 - f1_score: 0.6589WARNING:tensorflow:Early stopping conditioned on metric `val_loss` which is not available. Available metrics are: loss,precision_1,recall_1,f1_score\n"
     ]
    },
    {
     "name": "stderr",
     "output_type": "stream",
     "text": [
      "WARNING:tensorflow:Early stopping conditioned on metric `val_loss` which is not available. Available metrics are: loss,precision_1,recall_1,f1_score\n"
     ]
    },
    {
     "name": "stdout",
     "output_type": "stream",
     "text": [
      "82/82 [==============================] - 2s 8ms/step - loss: 1.5636 - precision_1: 0.8424 - recall_1: 0.4127 - f1_score: 0.6582\n",
      "Epoch 24/100\n",
      "81/82 [============================>.] - ETA: 0s - loss: 1.5475 - precision_1: 0.8520 - recall_1: 0.4116 - f1_score: 0.6598WARNING:tensorflow:Early stopping conditioned on metric `val_loss` which is not available. Available metrics are: loss,precision_1,recall_1,f1_score\n"
     ]
    },
    {
     "name": "stderr",
     "output_type": "stream",
     "text": [
      "WARNING:tensorflow:Early stopping conditioned on metric `val_loss` which is not available. Available metrics are: loss,precision_1,recall_1,f1_score\n"
     ]
    },
    {
     "name": "stdout",
     "output_type": "stream",
     "text": [
      "82/82 [==============================] - 2s 8ms/step - loss: 1.5463 - precision_1: 0.8512 - recall_1: 0.4120 - f1_score: 0.6602\n",
      "Epoch 25/100\n",
      "76/82 [==========================>...] - ETA: 0s - loss: 1.5215 - precision_1: 0.8433 - recall_1: 0.4166 - f1_score: 0.6615WARNING:tensorflow:Early stopping conditioned on metric `val_loss` which is not available. Available metrics are: loss,precision_1,recall_1,f1_score\n"
     ]
    },
    {
     "name": "stderr",
     "output_type": "stream",
     "text": [
      "WARNING:tensorflow:Early stopping conditioned on metric `val_loss` which is not available. Available metrics are: loss,precision_1,recall_1,f1_score\n"
     ]
    },
    {
     "name": "stdout",
     "output_type": "stream",
     "text": [
      "82/82 [==============================] - 2s 6ms/step - loss: 1.5220 - precision_1: 0.8427 - recall_1: 0.4173 - f1_score: 0.6622\n",
      "Epoch 26/100\n",
      "74/82 [==========================>...] - ETA: 0s - loss: 1.5067 - precision_1: 0.8464 - recall_1: 0.4207 - f1_score: 0.6663WARNING:tensorflow:Early stopping conditioned on metric `val_loss` which is not available. Available metrics are: loss,precision_1,recall_1,f1_score\n"
     ]
    },
    {
     "name": "stderr",
     "output_type": "stream",
     "text": [
      "WARNING:tensorflow:Early stopping conditioned on metric `val_loss` which is not available. Available metrics are: loss,precision_1,recall_1,f1_score\n"
     ]
    },
    {
     "name": "stdout",
     "output_type": "stream",
     "text": [
      "82/82 [==============================] - 2s 7ms/step - loss: 1.5067 - precision_1: 0.8470 - recall_1: 0.4195 - f1_score: 0.6671\n",
      "Epoch 27/100\n",
      "75/82 [==========================>...] - ETA: 0s - loss: 1.4875 - precision_1: 0.8444 - recall_1: 0.4201 - f1_score: 0.6652WARNING:tensorflow:Early stopping conditioned on metric `val_loss` which is not available. Available metrics are: loss,precision_1,recall_1,f1_score\n"
     ]
    },
    {
     "name": "stderr",
     "output_type": "stream",
     "text": [
      "WARNING:tensorflow:Early stopping conditioned on metric `val_loss` which is not available. Available metrics are: loss,precision_1,recall_1,f1_score\n"
     ]
    },
    {
     "name": "stdout",
     "output_type": "stream",
     "text": [
      "82/82 [==============================] - 2s 8ms/step - loss: 1.4888 - precision_1: 0.8446 - recall_1: 0.4218 - f1_score: 0.6656\n",
      "Epoch 28/100\n",
      "78/82 [===========================>..] - ETA: 0s - loss: 1.4782 - precision_1: 0.8480 - recall_1: 0.4248 - f1_score: 0.6694WARNING:tensorflow:Early stopping conditioned on metric `val_loss` which is not available. Available metrics are: loss,precision_1,recall_1,f1_score\n"
     ]
    },
    {
     "name": "stderr",
     "output_type": "stream",
     "text": [
      "WARNING:tensorflow:Early stopping conditioned on metric `val_loss` which is not available. Available metrics are: loss,precision_1,recall_1,f1_score\n"
     ]
    },
    {
     "name": "stdout",
     "output_type": "stream",
     "text": [
      "82/82 [==============================] - 2s 7ms/step - loss: 1.4787 - precision_1: 0.8476 - recall_1: 0.4247 - f1_score: 0.6693\n",
      "Epoch 29/100\n",
      "77/82 [===========================>..] - ETA: 0s - loss: 1.4684 - precision_1: 0.8446 - recall_1: 0.4242 - f1_score: 0.6672WARNING:tensorflow:Early stopping conditioned on metric `val_loss` which is not available. Available metrics are: loss,precision_1,recall_1,f1_score\n"
     ]
    },
    {
     "name": "stderr",
     "output_type": "stream",
     "text": [
      "WARNING:tensorflow:Early stopping conditioned on metric `val_loss` which is not available. Available metrics are: loss,precision_1,recall_1,f1_score\n"
     ]
    },
    {
     "name": "stdout",
     "output_type": "stream",
     "text": [
      "82/82 [==============================] - 2s 8ms/step - loss: 1.4677 - precision_1: 0.8466 - recall_1: 0.4261 - f1_score: 0.6670\n",
      "Epoch 30/100\n",
      "78/82 [===========================>..] - ETA: 0s - loss: 1.4558 - precision_1: 0.8468 - recall_1: 0.4297 - f1_score: 0.6651WARNING:tensorflow:Early stopping conditioned on metric `val_loss` which is not available. Available metrics are: loss,precision_1,recall_1,f1_score\n"
     ]
    },
    {
     "name": "stderr",
     "output_type": "stream",
     "text": [
      "WARNING:tensorflow:Early stopping conditioned on metric `val_loss` which is not available. Available metrics are: loss,precision_1,recall_1,f1_score\n"
     ]
    },
    {
     "name": "stdout",
     "output_type": "stream",
     "text": [
      "82/82 [==============================] - 2s 7ms/step - loss: 1.4570 - precision_1: 0.8471 - recall_1: 0.4289 - f1_score: 0.6649\n",
      "Epoch 31/100\n",
      "77/82 [===========================>..] - ETA: 0s - loss: 1.4494 - precision_1: 0.8541 - recall_1: 0.4287 - f1_score: 0.6693WARNING:tensorflow:Early stopping conditioned on metric `val_loss` which is not available. Available metrics are: loss,precision_1,recall_1,f1_score\n"
     ]
    },
    {
     "name": "stderr",
     "output_type": "stream",
     "text": [
      "WARNING:tensorflow:Early stopping conditioned on metric `val_loss` which is not available. Available metrics are: loss,precision_1,recall_1,f1_score\n"
     ]
    },
    {
     "name": "stdout",
     "output_type": "stream",
     "text": [
      "82/82 [==============================] - 2s 7ms/step - loss: 1.4474 - precision_1: 0.8543 - recall_1: 0.4308 - f1_score: 0.6694\n",
      "Epoch 32/100\n",
      "82/82 [==============================] - ETA: 0s - loss: 1.4362 - precision_1: 0.8500 - recall_1: 0.4353 - f1_score: 0.6745WARNING:tensorflow:Early stopping conditioned on metric `val_loss` which is not available. Available metrics are: loss,precision_1,recall_1,f1_score\n"
     ]
    },
    {
     "name": "stderr",
     "output_type": "stream",
     "text": [
      "WARNING:tensorflow:Early stopping conditioned on metric `val_loss` which is not available. Available metrics are: loss,precision_1,recall_1,f1_score\n"
     ]
    },
    {
     "name": "stdout",
     "output_type": "stream",
     "text": [
      "82/82 [==============================] - 2s 8ms/step - loss: 1.4362 - precision_1: 0.8500 - recall_1: 0.4353 - f1_score: 0.6745\n",
      "Epoch 33/100\n",
      "76/82 [==========================>...] - ETA: 0s - loss: 1.4308 - precision_1: 0.8586 - recall_1: 0.4365 - f1_score: 0.6743WARNING:tensorflow:Early stopping conditioned on metric `val_loss` which is not available. Available metrics are: loss,precision_1,recall_1,f1_score\n"
     ]
    },
    {
     "name": "stderr",
     "output_type": "stream",
     "text": [
      "WARNING:tensorflow:Early stopping conditioned on metric `val_loss` which is not available. Available metrics are: loss,precision_1,recall_1,f1_score\n"
     ]
    },
    {
     "name": "stdout",
     "output_type": "stream",
     "text": [
      "82/82 [==============================] - 2s 8ms/step - loss: 1.4281 - precision_1: 0.8576 - recall_1: 0.4378 - f1_score: 0.6754\n",
      "Epoch 34/100\n",
      "78/82 [===========================>..] - ETA: 0s - loss: 1.4141 - precision_1: 0.8541 - recall_1: 0.4439 - f1_score: 0.6745WARNING:tensorflow:Early stopping conditioned on metric `val_loss` which is not available. Available metrics are: loss,precision_1,recall_1,f1_score\n"
     ]
    },
    {
     "name": "stderr",
     "output_type": "stream",
     "text": [
      "WARNING:tensorflow:Early stopping conditioned on metric `val_loss` which is not available. Available metrics are: loss,precision_1,recall_1,f1_score\n"
     ]
    },
    {
     "name": "stdout",
     "output_type": "stream",
     "text": [
      "82/82 [==============================] - 2s 8ms/step - loss: 1.4175 - precision_1: 0.8541 - recall_1: 0.4422 - f1_score: 0.6736\n",
      "Epoch 35/100\n",
      "74/82 [==========================>...] - ETA: 0s - loss: 1.4110 - precision_1: 0.8509 - recall_1: 0.4416 - f1_score: 0.6799WARNING:tensorflow:Early stopping conditioned on metric `val_loss` which is not available. Available metrics are: loss,precision_1,recall_1,f1_score\n"
     ]
    },
    {
     "name": "stderr",
     "output_type": "stream",
     "text": [
      "WARNING:tensorflow:Early stopping conditioned on metric `val_loss` which is not available. Available metrics are: loss,precision_1,recall_1,f1_score\n"
     ]
    },
    {
     "name": "stdout",
     "output_type": "stream",
     "text": [
      "82/82 [==============================] - 2s 6ms/step - loss: 1.4063 - precision_1: 0.8516 - recall_1: 0.4437 - f1_score: 0.6811\n",
      "Epoch 36/100\n",
      "78/82 [===========================>..] - ETA: 0s - loss: 1.3987 - precision_1: 0.8540 - recall_1: 0.4451 - f1_score: 0.6818WARNING:tensorflow:Early stopping conditioned on metric `val_loss` which is not available. Available metrics are: loss,precision_1,recall_1,f1_score\n"
     ]
    },
    {
     "name": "stderr",
     "output_type": "stream",
     "text": [
      "WARNING:tensorflow:Early stopping conditioned on metric `val_loss` which is not available. Available metrics are: loss,precision_1,recall_1,f1_score\n"
     ]
    },
    {
     "name": "stdout",
     "output_type": "stream",
     "text": [
      "82/82 [==============================] - 2s 8ms/step - loss: 1.3972 - precision_1: 0.8553 - recall_1: 0.4455 - f1_score: 0.6828\n",
      "Epoch 37/100\n",
      "76/82 [==========================>...] - ETA: 0s - loss: 1.3870 - precision_1: 0.8573 - recall_1: 0.4497 - f1_score: 0.6837WARNING:tensorflow:Early stopping conditioned on metric `val_loss` which is not available. Available metrics are: loss,precision_1,recall_1,f1_score\n"
     ]
    },
    {
     "name": "stderr",
     "output_type": "stream",
     "text": [
      "WARNING:tensorflow:Early stopping conditioned on metric `val_loss` which is not available. Available metrics are: loss,precision_1,recall_1,f1_score\n"
     ]
    },
    {
     "name": "stdout",
     "output_type": "stream",
     "text": [
      "82/82 [==============================] - 2s 7ms/step - loss: 1.3923 - precision_1: 0.8559 - recall_1: 0.4479 - f1_score: 0.6812\n",
      "Epoch 38/100\n",
      "81/82 [============================>.] - ETA: 0s - loss: 1.3893 - precision_1: 0.8538 - recall_1: 0.4483 - f1_score: 0.6821WARNING:tensorflow:Early stopping conditioned on metric `val_loss` which is not available. Available metrics are: loss,precision_1,recall_1,f1_score\n"
     ]
    },
    {
     "name": "stderr",
     "output_type": "stream",
     "text": [
      "WARNING:tensorflow:Early stopping conditioned on metric `val_loss` which is not available. Available metrics are: loss,precision_1,recall_1,f1_score\n"
     ]
    },
    {
     "name": "stdout",
     "output_type": "stream",
     "text": [
      "82/82 [==============================] - 2s 8ms/step - loss: 1.3895 - precision_1: 0.8539 - recall_1: 0.4480 - f1_score: 0.6814\n",
      "Epoch 39/100\n",
      "76/82 [==========================>...] - ETA: 0s - loss: 1.3753 - precision_1: 0.8589 - recall_1: 0.4550 - f1_score: 0.6850WARNING:tensorflow:Early stopping conditioned on metric `val_loss` which is not available. Available metrics are: loss,precision_1,recall_1,f1_score\n"
     ]
    },
    {
     "name": "stderr",
     "output_type": "stream",
     "text": [
      "WARNING:tensorflow:Early stopping conditioned on metric `val_loss` which is not available. Available metrics are: loss,precision_1,recall_1,f1_score\n"
     ]
    },
    {
     "name": "stdout",
     "output_type": "stream",
     "text": [
      "82/82 [==============================] - 2s 7ms/step - loss: 1.3770 - precision_1: 0.8588 - recall_1: 0.4550 - f1_score: 0.6850\n",
      "Epoch 40/100\n",
      "82/82 [==============================] - ETA: 0s - loss: 1.3736 - precision_1: 0.8566 - recall_1: 0.4564 - f1_score: 0.6823WARNING:tensorflow:Early stopping conditioned on metric `val_loss` which is not available. Available metrics are: loss,precision_1,recall_1,f1_score\n"
     ]
    },
    {
     "name": "stderr",
     "output_type": "stream",
     "text": [
      "WARNING:tensorflow:Early stopping conditioned on metric `val_loss` which is not available. Available metrics are: loss,precision_1,recall_1,f1_score\n"
     ]
    },
    {
     "name": "stdout",
     "output_type": "stream",
     "text": [
      "82/82 [==============================] - 2s 9ms/step - loss: 1.3736 - precision_1: 0.8566 - recall_1: 0.4564 - f1_score: 0.6823\n",
      "Epoch 41/100\n",
      "76/82 [==========================>...] - ETA: 0s - loss: 1.3696 - precision_1: 0.8525 - recall_1: 0.4532 - f1_score: 0.6853WARNING:tensorflow:Early stopping conditioned on metric `val_loss` which is not available. Available metrics are: loss,precision_1,recall_1,f1_score\n"
     ]
    },
    {
     "name": "stderr",
     "output_type": "stream",
     "text": [
      "WARNING:tensorflow:Early stopping conditioned on metric `val_loss` which is not available. Available metrics are: loss,precision_1,recall_1,f1_score\n"
     ]
    },
    {
     "name": "stdout",
     "output_type": "stream",
     "text": [
      "82/82 [==============================] - 2s 6ms/step - loss: 1.3665 - precision_1: 0.8541 - recall_1: 0.4559 - f1_score: 0.6858\n",
      "Epoch 42/100\n",
      "77/82 [===========================>..] - ETA: 0s - loss: 1.3603 - precision_1: 0.8596 - recall_1: 0.4598 - f1_score: 0.6912WARNING:tensorflow:Early stopping conditioned on metric `val_loss` which is not available. Available metrics are: loss,precision_1,recall_1,f1_score\n"
     ]
    },
    {
     "name": "stderr",
     "output_type": "stream",
     "text": [
      "WARNING:tensorflow:Early stopping conditioned on metric `val_loss` which is not available. Available metrics are: loss,precision_1,recall_1,f1_score\n"
     ]
    },
    {
     "name": "stdout",
     "output_type": "stream",
     "text": [
      "82/82 [==============================] - 2s 8ms/step - loss: 1.3619 - precision_1: 0.8603 - recall_1: 0.4584 - f1_score: 0.6896\n",
      "Epoch 43/100\n",
      "80/82 [============================>.] - ETA: 0s - loss: 1.3611 - precision_1: 0.8541 - recall_1: 0.4591 - f1_score: 0.6852WARNING:tensorflow:Early stopping conditioned on metric `val_loss` which is not available. Available metrics are: loss,precision_1,recall_1,f1_score\n"
     ]
    },
    {
     "name": "stderr",
     "output_type": "stream",
     "text": [
      "WARNING:tensorflow:Early stopping conditioned on metric `val_loss` which is not available. Available metrics are: loss,precision_1,recall_1,f1_score\n"
     ]
    },
    {
     "name": "stdout",
     "output_type": "stream",
     "text": [
      "82/82 [==============================] - 2s 8ms/step - loss: 1.3592 - precision_1: 0.8549 - recall_1: 0.4592 - f1_score: 0.6864\n",
      "Epoch 44/100\n",
      "80/82 [============================>.] - ETA: 0s - loss: 1.3484 - precision_1: 0.8561 - recall_1: 0.4661 - f1_score: 0.6936WARNING:tensorflow:Early stopping conditioned on metric `val_loss` which is not available. Available metrics are: loss,precision_1,recall_1,f1_score\n"
     ]
    },
    {
     "name": "stderr",
     "output_type": "stream",
     "text": [
      "WARNING:tensorflow:Early stopping conditioned on metric `val_loss` which is not available. Available metrics are: loss,precision_1,recall_1,f1_score\n"
     ]
    },
    {
     "name": "stdout",
     "output_type": "stream",
     "text": [
      "82/82 [==============================] - 2s 8ms/step - loss: 1.3501 - precision_1: 0.8552 - recall_1: 0.4666 - f1_score: 0.6930\n",
      "Epoch 45/100\n",
      "79/82 [===========================>..] - ETA: 0s - loss: 1.3407 - precision_1: 0.8594 - recall_1: 0.4665 - f1_score: 0.6924WARNING:tensorflow:Early stopping conditioned on metric `val_loss` which is not available. Available metrics are: loss,precision_1,recall_1,f1_score\n"
     ]
    },
    {
     "name": "stderr",
     "output_type": "stream",
     "text": [
      "WARNING:tensorflow:Early stopping conditioned on metric `val_loss` which is not available. Available metrics are: loss,precision_1,recall_1,f1_score\n"
     ]
    },
    {
     "name": "stdout",
     "output_type": "stream",
     "text": [
      "82/82 [==============================] - 2s 8ms/step - loss: 1.3397 - precision_1: 0.8605 - recall_1: 0.4661 - f1_score: 0.6928\n",
      "Epoch 46/100\n",
      "82/82 [==============================] - ETA: 0s - loss: 1.3392 - precision_1: 0.8577 - recall_1: 0.4705 - f1_score: 0.6912WARNING:tensorflow:Early stopping conditioned on metric `val_loss` which is not available. Available metrics are: loss,precision_1,recall_1,f1_score\n"
     ]
    },
    {
     "name": "stderr",
     "output_type": "stream",
     "text": [
      "WARNING:tensorflow:Early stopping conditioned on metric `val_loss` which is not available. Available metrics are: loss,precision_1,recall_1,f1_score\n"
     ]
    },
    {
     "name": "stdout",
     "output_type": "stream",
     "text": [
      "82/82 [==============================] - 2s 8ms/step - loss: 1.3392 - precision_1: 0.8577 - recall_1: 0.4705 - f1_score: 0.6912\n",
      "Epoch 47/100\n",
      "82/82 [==============================] - ETA: 0s - loss: 1.3314 - precision_1: 0.8627 - recall_1: 0.4706 - f1_score: 0.6944WARNING:tensorflow:Early stopping conditioned on metric `val_loss` which is not available. Available metrics are: loss,precision_1,recall_1,f1_score\n"
     ]
    },
    {
     "name": "stderr",
     "output_type": "stream",
     "text": [
      "WARNING:tensorflow:Early stopping conditioned on metric `val_loss` which is not available. Available metrics are: loss,precision_1,recall_1,f1_score\n"
     ]
    },
    {
     "name": "stdout",
     "output_type": "stream",
     "text": [
      "82/82 [==============================] - 2s 8ms/step - loss: 1.3314 - precision_1: 0.8627 - recall_1: 0.4706 - f1_score: 0.6944\n",
      "Epoch 48/100\n",
      "79/82 [===========================>..] - ETA: 0s - loss: 1.3302 - precision_1: 0.8590 - recall_1: 0.4686 - f1_score: 0.6968WARNING:tensorflow:Early stopping conditioned on metric `val_loss` which is not available. Available metrics are: loss,precision_1,recall_1,f1_score\n"
     ]
    },
    {
     "name": "stderr",
     "output_type": "stream",
     "text": [
      "WARNING:tensorflow:Early stopping conditioned on metric `val_loss` which is not available. Available metrics are: loss,precision_1,recall_1,f1_score\n"
     ]
    },
    {
     "name": "stdout",
     "output_type": "stream",
     "text": [
      "82/82 [==============================] - 2s 8ms/step - loss: 1.3308 - precision_1: 0.8592 - recall_1: 0.4681 - f1_score: 0.6965\n",
      "Epoch 49/100\n",
      "74/82 [==========================>...] - ETA: 0s - loss: 1.3276 - precision_1: 0.8619 - recall_1: 0.4743 - f1_score: 0.6925WARNING:tensorflow:Early stopping conditioned on metric `val_loss` which is not available. Available metrics are: loss,precision_1,recall_1,f1_score\n"
     ]
    },
    {
     "name": "stderr",
     "output_type": "stream",
     "text": [
      "WARNING:tensorflow:Early stopping conditioned on metric `val_loss` which is not available. Available metrics are: loss,precision_1,recall_1,f1_score\n"
     ]
    },
    {
     "name": "stdout",
     "output_type": "stream",
     "text": [
      "82/82 [==============================] - 2s 7ms/step - loss: 1.3297 - precision_1: 0.8614 - recall_1: 0.4738 - f1_score: 0.6910\n",
      "Epoch 50/100\n",
      "79/82 [===========================>..] - ETA: 0s - loss: 1.3204 - precision_1: 0.8567 - recall_1: 0.4729 - f1_score: 0.7000WARNING:tensorflow:Early stopping conditioned on metric `val_loss` which is not available. Available metrics are: loss,precision_1,recall_1,f1_score\n"
     ]
    },
    {
     "name": "stderr",
     "output_type": "stream",
     "text": [
      "WARNING:tensorflow:Early stopping conditioned on metric `val_loss` which is not available. Available metrics are: loss,precision_1,recall_1,f1_score\n"
     ]
    },
    {
     "name": "stdout",
     "output_type": "stream",
     "text": [
      "82/82 [==============================] - 2s 8ms/step - loss: 1.3229 - precision_1: 0.8567 - recall_1: 0.4729 - f1_score: 0.6989\n",
      "Epoch 51/100\n",
      "76/82 [==========================>...] - ETA: 0s - loss: 1.3205 - precision_1: 0.8616 - recall_1: 0.4762 - f1_score: 0.6962WARNING:tensorflow:Early stopping conditioned on metric `val_loss` which is not available. Available metrics are: loss,precision_1,recall_1,f1_score\n"
     ]
    },
    {
     "name": "stderr",
     "output_type": "stream",
     "text": [
      "WARNING:tensorflow:Early stopping conditioned on metric `val_loss` which is not available. Available metrics are: loss,precision_1,recall_1,f1_score\n"
     ]
    },
    {
     "name": "stdout",
     "output_type": "stream",
     "text": [
      "82/82 [==============================] - 2s 8ms/step - loss: 1.3220 - precision_1: 0.8610 - recall_1: 0.4762 - f1_score: 0.6958\n",
      "Epoch 52/100\n",
      "77/82 [===========================>..] - ETA: 0s - loss: 1.3180 - precision_1: 0.8611 - recall_1: 0.4747 - f1_score: 0.6949WARNING:tensorflow:Early stopping conditioned on metric `val_loss` which is not available. Available metrics are: loss,precision_1,recall_1,f1_score\n"
     ]
    },
    {
     "name": "stderr",
     "output_type": "stream",
     "text": [
      "WARNING:tensorflow:Early stopping conditioned on metric `val_loss` which is not available. Available metrics are: loss,precision_1,recall_1,f1_score\n"
     ]
    },
    {
     "name": "stdout",
     "output_type": "stream",
     "text": [
      "82/82 [==============================] - 2s 8ms/step - loss: 1.3170 - precision_1: 0.8612 - recall_1: 0.4766 - f1_score: 0.6968\n",
      "Epoch 53/100\n",
      "76/82 [==========================>...] - ETA: 0s - loss: 1.2997 - precision_1: 0.8652 - recall_1: 0.4861 - f1_score: 0.7055WARNING:tensorflow:Early stopping conditioned on metric `val_loss` which is not available. Available metrics are: loss,precision_1,recall_1,f1_score\n"
     ]
    },
    {
     "name": "stderr",
     "output_type": "stream",
     "text": [
      "WARNING:tensorflow:Early stopping conditioned on metric `val_loss` which is not available. Available metrics are: loss,precision_1,recall_1,f1_score\n"
     ]
    },
    {
     "name": "stdout",
     "output_type": "stream",
     "text": [
      "82/82 [==============================] - 2s 8ms/step - loss: 1.3072 - precision_1: 0.8630 - recall_1: 0.4851 - f1_score: 0.7031\n",
      "Epoch 54/100\n",
      "76/82 [==========================>...] - ETA: 0s - loss: 1.2979 - precision_1: 0.8671 - recall_1: 0.4877 - f1_score: 0.7023WARNING:tensorflow:Early stopping conditioned on metric `val_loss` which is not available. Available metrics are: loss,precision_1,recall_1,f1_score\n"
     ]
    },
    {
     "name": "stderr",
     "output_type": "stream",
     "text": [
      "WARNING:tensorflow:Early stopping conditioned on metric `val_loss` which is not available. Available metrics are: loss,precision_1,recall_1,f1_score\n"
     ]
    },
    {
     "name": "stdout",
     "output_type": "stream",
     "text": [
      "82/82 [==============================] - 2s 8ms/step - loss: 1.3022 - precision_1: 0.8653 - recall_1: 0.4868 - f1_score: 0.7000\n",
      "Epoch 55/100\n",
      "82/82 [==============================] - ETA: 0s - loss: 1.2991 - precision_1: 0.8656 - recall_1: 0.4826 - f1_score: 0.7069WARNING:tensorflow:Early stopping conditioned on metric `val_loss` which is not available. Available metrics are: loss,precision_1,recall_1,f1_score\n"
     ]
    },
    {
     "name": "stderr",
     "output_type": "stream",
     "text": [
      "WARNING:tensorflow:Early stopping conditioned on metric `val_loss` which is not available. Available metrics are: loss,precision_1,recall_1,f1_score\n"
     ]
    },
    {
     "name": "stdout",
     "output_type": "stream",
     "text": [
      "82/82 [==============================] - 2s 8ms/step - loss: 1.2991 - precision_1: 0.8656 - recall_1: 0.4826 - f1_score: 0.7069\n",
      "Epoch 56/100\n",
      "75/82 [==========================>...] - ETA: 0s - loss: 1.2883 - precision_1: 0.8639 - recall_1: 0.4895 - f1_score: 0.7091WARNING:tensorflow:Early stopping conditioned on metric `val_loss` which is not available. Available metrics are: loss,precision_1,recall_1,f1_score\n"
     ]
    },
    {
     "name": "stderr",
     "output_type": "stream",
     "text": [
      "WARNING:tensorflow:Early stopping conditioned on metric `val_loss` which is not available. Available metrics are: loss,precision_1,recall_1,f1_score\n"
     ]
    },
    {
     "name": "stdout",
     "output_type": "stream",
     "text": [
      "82/82 [==============================] - 2s 8ms/step - loss: 1.2968 - precision_1: 0.8614 - recall_1: 0.4882 - f1_score: 0.7065\n",
      "Epoch 57/100\n",
      "76/82 [==========================>...] - ETA: 0s - loss: 1.2846 - precision_1: 0.8696 - recall_1: 0.4915 - f1_score: 0.7033WARNING:tensorflow:Early stopping conditioned on metric `val_loss` which is not available. Available metrics are: loss,precision_1,recall_1,f1_score\n"
     ]
    },
    {
     "name": "stderr",
     "output_type": "stream",
     "text": [
      "WARNING:tensorflow:Early stopping conditioned on metric `val_loss` which is not available. Available metrics are: loss,precision_1,recall_1,f1_score\n"
     ]
    },
    {
     "name": "stdout",
     "output_type": "stream",
     "text": [
      "82/82 [==============================] - 2s 7ms/step - loss: 1.2902 - precision_1: 0.8677 - recall_1: 0.4907 - f1_score: 0.7013\n",
      "Epoch 58/100\n",
      "77/82 [===========================>..] - ETA: 0s - loss: 1.2870 - precision_1: 0.8675 - recall_1: 0.4914 - f1_score: 0.7109WARNING:tensorflow:Early stopping conditioned on metric `val_loss` which is not available. Available metrics are: loss,precision_1,recall_1,f1_score\n"
     ]
    },
    {
     "name": "stderr",
     "output_type": "stream",
     "text": [
      "WARNING:tensorflow:Early stopping conditioned on metric `val_loss` which is not available. Available metrics are: loss,precision_1,recall_1,f1_score\n"
     ]
    },
    {
     "name": "stdout",
     "output_type": "stream",
     "text": [
      "82/82 [==============================] - 2s 8ms/step - loss: 1.2854 - precision_1: 0.8680 - recall_1: 0.4920 - f1_score: 0.7098\n",
      "Epoch 59/100\n",
      "80/82 [============================>.] - ETA: 0s - loss: 1.2778 - precision_1: 0.8663 - recall_1: 0.4941 - f1_score: 0.7134WARNING:tensorflow:Early stopping conditioned on metric `val_loss` which is not available. Available metrics are: loss,precision_1,recall_1,f1_score\n"
     ]
    },
    {
     "name": "stderr",
     "output_type": "stream",
     "text": [
      "WARNING:tensorflow:Early stopping conditioned on metric `val_loss` which is not available. Available metrics are: loss,precision_1,recall_1,f1_score\n"
     ]
    },
    {
     "name": "stdout",
     "output_type": "stream",
     "text": [
      "82/82 [==============================] - 2s 7ms/step - loss: 1.2777 - precision_1: 0.8655 - recall_1: 0.4939 - f1_score: 0.7128\n",
      "Epoch 60/100\n",
      "77/82 [===========================>..] - ETA: 0s - loss: 1.2704 - precision_1: 0.8668 - recall_1: 0.5023 - f1_score: 0.7119WARNING:tensorflow:Early stopping conditioned on metric `val_loss` which is not available. Available metrics are: loss,precision_1,recall_1,f1_score\n"
     ]
    },
    {
     "name": "stderr",
     "output_type": "stream",
     "text": [
      "WARNING:tensorflow:Early stopping conditioned on metric `val_loss` which is not available. Available metrics are: loss,precision_1,recall_1,f1_score\n"
     ]
    },
    {
     "name": "stdout",
     "output_type": "stream",
     "text": [
      "82/82 [==============================] - 2s 7ms/step - loss: 1.2748 - precision_1: 0.8662 - recall_1: 0.5006 - f1_score: 0.7100\n",
      "Epoch 61/100\n",
      "81/82 [============================>.] - ETA: 0s - loss: 1.2730 - precision_1: 0.8625 - recall_1: 0.4967 - f1_score: 0.7089WARNING:tensorflow:Early stopping conditioned on metric `val_loss` which is not available. Available metrics are: loss,precision_1,recall_1,f1_score\n"
     ]
    },
    {
     "name": "stderr",
     "output_type": "stream",
     "text": [
      "WARNING:tensorflow:Early stopping conditioned on metric `val_loss` which is not available. Available metrics are: loss,precision_1,recall_1,f1_score\n"
     ]
    },
    {
     "name": "stdout",
     "output_type": "stream",
     "text": [
      "82/82 [==============================] - 2s 7ms/step - loss: 1.2730 - precision_1: 0.8624 - recall_1: 0.4965 - f1_score: 0.7088\n",
      "Epoch 62/100\n",
      "75/82 [==========================>...] - ETA: 0s - loss: 1.2736 - precision_1: 0.8694 - recall_1: 0.5013 - f1_score: 0.7094WARNING:tensorflow:Early stopping conditioned on metric `val_loss` which is not available. Available metrics are: loss,precision_1,recall_1,f1_score\n"
     ]
    },
    {
     "name": "stderr",
     "output_type": "stream",
     "text": [
      "WARNING:tensorflow:Early stopping conditioned on metric `val_loss` which is not available. Available metrics are: loss,precision_1,recall_1,f1_score\n"
     ]
    },
    {
     "name": "stdout",
     "output_type": "stream",
     "text": [
      "82/82 [==============================] - 2s 6ms/step - loss: 1.2732 - precision_1: 0.8674 - recall_1: 0.5021 - f1_score: 0.7094\n",
      "Epoch 63/100\n",
      "77/82 [===========================>..] - ETA: 0s - loss: 1.2613 - precision_1: 0.8691 - recall_1: 0.5045 - f1_score: 0.7153WARNING:tensorflow:Early stopping conditioned on metric `val_loss` which is not available. Available metrics are: loss,precision_1,recall_1,f1_score\n"
     ]
    },
    {
     "name": "stderr",
     "output_type": "stream",
     "text": [
      "WARNING:tensorflow:Early stopping conditioned on metric `val_loss` which is not available. Available metrics are: loss,precision_1,recall_1,f1_score\n"
     ]
    },
    {
     "name": "stdout",
     "output_type": "stream",
     "text": [
      "82/82 [==============================] - 2s 6ms/step - loss: 1.2626 - precision_1: 0.8689 - recall_1: 0.5034 - f1_score: 0.7142\n",
      "Epoch 64/100\n",
      "73/82 [=========================>....] - ETA: 0s - loss: 1.2559 - precision_1: 0.8701 - recall_1: 0.5037 - f1_score: 0.7186WARNING:tensorflow:Early stopping conditioned on metric `val_loss` which is not available. Available metrics are: loss,precision_1,recall_1,f1_score\n"
     ]
    },
    {
     "name": "stderr",
     "output_type": "stream",
     "text": [
      "WARNING:tensorflow:Early stopping conditioned on metric `val_loss` which is not available. Available metrics are: loss,precision_1,recall_1,f1_score\n"
     ]
    },
    {
     "name": "stdout",
     "output_type": "stream",
     "text": [
      "82/82 [==============================] - 2s 6ms/step - loss: 1.2555 - precision_1: 0.8717 - recall_1: 0.5043 - f1_score: 0.7187\n",
      "Epoch 65/100\n",
      "82/82 [==============================] - ETA: 0s - loss: 1.2550 - precision_1: 0.8688 - recall_1: 0.5055 - f1_score: 0.7157WARNING:tensorflow:Early stopping conditioned on metric `val_loss` which is not available. Available metrics are: loss,precision_1,recall_1,f1_score\n"
     ]
    },
    {
     "name": "stderr",
     "output_type": "stream",
     "text": [
      "WARNING:tensorflow:Early stopping conditioned on metric `val_loss` which is not available. Available metrics are: loss,precision_1,recall_1,f1_score\n"
     ]
    },
    {
     "name": "stdout",
     "output_type": "stream",
     "text": [
      "82/82 [==============================] - 2s 6ms/step - loss: 1.2550 - precision_1: 0.8688 - recall_1: 0.5055 - f1_score: 0.7157\n",
      "Epoch 66/100\n",
      "74/82 [==========================>...] - ETA: 0s - loss: 1.2496 - precision_1: 0.8674 - recall_1: 0.5041 - f1_score: 0.7181WARNING:tensorflow:Early stopping conditioned on metric `val_loss` which is not available. Available metrics are: loss,precision_1,recall_1,f1_score\n"
     ]
    },
    {
     "name": "stderr",
     "output_type": "stream",
     "text": [
      "WARNING:tensorflow:Early stopping conditioned on metric `val_loss` which is not available. Available metrics are: loss,precision_1,recall_1,f1_score\n"
     ]
    },
    {
     "name": "stdout",
     "output_type": "stream",
     "text": [
      "82/82 [==============================] - 2s 7ms/step - loss: 1.2519 - precision_1: 0.8670 - recall_1: 0.5019 - f1_score: 0.7173\n",
      "Epoch 67/100\n",
      "75/82 [==========================>...] - ETA: 0s - loss: 1.2351 - precision_1: 0.8715 - recall_1: 0.5156 - f1_score: 0.7259WARNING:tensorflow:Early stopping conditioned on metric `val_loss` which is not available. Available metrics are: loss,precision_1,recall_1,f1_score\n"
     ]
    },
    {
     "name": "stderr",
     "output_type": "stream",
     "text": [
      "WARNING:tensorflow:Early stopping conditioned on metric `val_loss` which is not available. Available metrics are: loss,precision_1,recall_1,f1_score\n"
     ]
    },
    {
     "name": "stdout",
     "output_type": "stream",
     "text": [
      "82/82 [==============================] - 2s 8ms/step - loss: 1.2452 - precision_1: 0.8689 - recall_1: 0.5116 - f1_score: 0.7224\n",
      "Epoch 68/100\n",
      "79/82 [===========================>..] - ETA: 0s - loss: 1.2400 - precision_1: 0.8749 - recall_1: 0.5127 - f1_score: 0.7212WARNING:tensorflow:Early stopping conditioned on metric `val_loss` which is not available. Available metrics are: loss,precision_1,recall_1,f1_score\n"
     ]
    },
    {
     "name": "stderr",
     "output_type": "stream",
     "text": [
      "WARNING:tensorflow:Early stopping conditioned on metric `val_loss` which is not available. Available metrics are: loss,precision_1,recall_1,f1_score\n"
     ]
    },
    {
     "name": "stdout",
     "output_type": "stream",
     "text": [
      "82/82 [==============================] - 2s 8ms/step - loss: 1.2431 - precision_1: 0.8742 - recall_1: 0.5111 - f1_score: 0.7210\n",
      "Epoch 69/100\n",
      "79/82 [===========================>..] - ETA: 0s - loss: 1.2372 - precision_1: 0.8719 - recall_1: 0.5129 - f1_score: 0.7225WARNING:tensorflow:Early stopping conditioned on metric `val_loss` which is not available. Available metrics are: loss,precision_1,recall_1,f1_score\n"
     ]
    },
    {
     "name": "stderr",
     "output_type": "stream",
     "text": [
      "WARNING:tensorflow:Early stopping conditioned on metric `val_loss` which is not available. Available metrics are: loss,precision_1,recall_1,f1_score\n"
     ]
    },
    {
     "name": "stdout",
     "output_type": "stream",
     "text": [
      "82/82 [==============================] - 2s 7ms/step - loss: 1.2406 - precision_1: 0.8721 - recall_1: 0.5116 - f1_score: 0.7213\n",
      "Epoch 70/100\n",
      "76/82 [==========================>...] - ETA: 0s - loss: 1.2318 - precision_1: 0.8742 - recall_1: 0.5193 - f1_score: 0.7269WARNING:tensorflow:Early stopping conditioned on metric `val_loss` which is not available. Available metrics are: loss,precision_1,recall_1,f1_score\n"
     ]
    },
    {
     "name": "stderr",
     "output_type": "stream",
     "text": [
      "WARNING:tensorflow:Early stopping conditioned on metric `val_loss` which is not available. Available metrics are: loss,precision_1,recall_1,f1_score\n"
     ]
    },
    {
     "name": "stdout",
     "output_type": "stream",
     "text": [
      "82/82 [==============================] - 2s 8ms/step - loss: 1.2327 - precision_1: 0.8744 - recall_1: 0.5188 - f1_score: 0.7268\n",
      "Epoch 71/100\n",
      "77/82 [===========================>..] - ETA: 0s - loss: 1.2297 - precision_1: 0.8758 - recall_1: 0.5142 - f1_score: 0.7222WARNING:tensorflow:Early stopping conditioned on metric `val_loss` which is not available. Available metrics are: loss,precision_1,recall_1,f1_score\n"
     ]
    },
    {
     "name": "stderr",
     "output_type": "stream",
     "text": [
      "WARNING:tensorflow:Early stopping conditioned on metric `val_loss` which is not available. Available metrics are: loss,precision_1,recall_1,f1_score\n"
     ]
    },
    {
     "name": "stdout",
     "output_type": "stream",
     "text": [
      "82/82 [==============================] - 2s 8ms/step - loss: 1.2287 - precision_1: 0.8767 - recall_1: 0.5163 - f1_score: 0.7225\n",
      "Epoch 72/100\n",
      "74/82 [==========================>...] - ETA: 0s - loss: 1.2277 - precision_1: 0.8720 - recall_1: 0.5185 - f1_score: 0.7232WARNING:tensorflow:Early stopping conditioned on metric `val_loss` which is not available. Available metrics are: loss,precision_1,recall_1,f1_score\n"
     ]
    },
    {
     "name": "stderr",
     "output_type": "stream",
     "text": [
      "WARNING:tensorflow:Early stopping conditioned on metric `val_loss` which is not available. Available metrics are: loss,precision_1,recall_1,f1_score\n"
     ]
    },
    {
     "name": "stdout",
     "output_type": "stream",
     "text": [
      "82/82 [==============================] - 2s 8ms/step - loss: 1.2359 - precision_1: 0.8709 - recall_1: 0.5143 - f1_score: 0.7216\n",
      "Epoch 73/100\n",
      "78/82 [===========================>..] - ETA: 0s - loss: 1.2272 - precision_1: 0.8706 - recall_1: 0.5163 - f1_score: 0.7301WARNING:tensorflow:Early stopping conditioned on metric `val_loss` which is not available. Available metrics are: loss,precision_1,recall_1,f1_score\n"
     ]
    },
    {
     "name": "stderr",
     "output_type": "stream",
     "text": [
      "WARNING:tensorflow:Early stopping conditioned on metric `val_loss` which is not available. Available metrics are: loss,precision_1,recall_1,f1_score\n"
     ]
    },
    {
     "name": "stdout",
     "output_type": "stream",
     "text": [
      "82/82 [==============================] - 2s 8ms/step - loss: 1.2262 - precision_1: 0.8715 - recall_1: 0.5177 - f1_score: 0.7305\n",
      "Epoch 74/100\n",
      "81/82 [============================>.] - ETA: 0s - loss: 1.2200 - precision_1: 0.8719 - recall_1: 0.5226 - f1_score: 0.7274WARNING:tensorflow:Early stopping conditioned on metric `val_loss` which is not available. Available metrics are: loss,precision_1,recall_1,f1_score\n"
     ]
    },
    {
     "name": "stderr",
     "output_type": "stream",
     "text": [
      "WARNING:tensorflow:Early stopping conditioned on metric `val_loss` which is not available. Available metrics are: loss,precision_1,recall_1,f1_score\n"
     ]
    },
    {
     "name": "stdout",
     "output_type": "stream",
     "text": [
      "82/82 [==============================] - 2s 8ms/step - loss: 1.2193 - precision_1: 0.8722 - recall_1: 0.5224 - f1_score: 0.7278\n",
      "Epoch 75/100\n",
      "81/82 [============================>.] - ETA: 0s - loss: 1.2179 - precision_1: 0.8752 - recall_1: 0.5260 - f1_score: 0.7291WARNING:tensorflow:Early stopping conditioned on metric `val_loss` which is not available. Available metrics are: loss,precision_1,recall_1,f1_score\n"
     ]
    },
    {
     "name": "stderr",
     "output_type": "stream",
     "text": [
      "WARNING:tensorflow:Early stopping conditioned on metric `val_loss` which is not available. Available metrics are: loss,precision_1,recall_1,f1_score\n"
     ]
    },
    {
     "name": "stdout",
     "output_type": "stream",
     "text": [
      "82/82 [==============================] - 2s 8ms/step - loss: 1.2179 - precision_1: 0.8757 - recall_1: 0.5257 - f1_score: 0.7294\n",
      "Epoch 76/100\n",
      "80/82 [============================>.] - ETA: 0s - loss: 1.2046 - precision_1: 0.8774 - recall_1: 0.5311 - f1_score: 0.7288WARNING:tensorflow:Early stopping conditioned on metric `val_loss` which is not available. Available metrics are: loss,precision_1,recall_1,f1_score\n"
     ]
    },
    {
     "name": "stderr",
     "output_type": "stream",
     "text": [
      "WARNING:tensorflow:Early stopping conditioned on metric `val_loss` which is not available. Available metrics are: loss,precision_1,recall_1,f1_score\n"
     ]
    },
    {
     "name": "stdout",
     "output_type": "stream",
     "text": [
      "82/82 [==============================] - 2s 8ms/step - loss: 1.2049 - precision_1: 0.8775 - recall_1: 0.5299 - f1_score: 0.7289\n",
      "Epoch 77/100\n",
      "78/82 [===========================>..] - ETA: 0s - loss: 1.2018 - precision_1: 0.8801 - recall_1: 0.5278 - f1_score: 0.7340WARNING:tensorflow:Early stopping conditioned on metric `val_loss` which is not available. Available metrics are: loss,precision_1,recall_1,f1_score\n"
     ]
    },
    {
     "name": "stderr",
     "output_type": "stream",
     "text": [
      "WARNING:tensorflow:Early stopping conditioned on metric `val_loss` which is not available. Available metrics are: loss,precision_1,recall_1,f1_score\n"
     ]
    },
    {
     "name": "stdout",
     "output_type": "stream",
     "text": [
      "82/82 [==============================] - 2s 6ms/step - loss: 1.2060 - precision_1: 0.8781 - recall_1: 0.5263 - f1_score: 0.7317\n",
      "Epoch 78/100\n",
      "81/82 [============================>.] - ETA: 0s - loss: 1.2045 - precision_1: 0.8792 - recall_1: 0.5291 - f1_score: 0.7323WARNING:tensorflow:Early stopping conditioned on metric `val_loss` which is not available. Available metrics are: loss,precision_1,recall_1,f1_score\n"
     ]
    },
    {
     "name": "stderr",
     "output_type": "stream",
     "text": [
      "WARNING:tensorflow:Early stopping conditioned on metric `val_loss` which is not available. Available metrics are: loss,precision_1,recall_1,f1_score\n"
     ]
    },
    {
     "name": "stdout",
     "output_type": "stream",
     "text": [
      "82/82 [==============================] - 2s 8ms/step - loss: 1.2036 - precision_1: 0.8795 - recall_1: 0.5297 - f1_score: 0.7323\n",
      "Epoch 79/100\n",
      "80/82 [============================>.] - ETA: 0s - loss: 1.2005 - precision_1: 0.8796 - recall_1: 0.5324 - f1_score: 0.7319WARNING:tensorflow:Early stopping conditioned on metric `val_loss` which is not available. Available metrics are: loss,precision_1,recall_1,f1_score\n"
     ]
    },
    {
     "name": "stderr",
     "output_type": "stream",
     "text": [
      "WARNING:tensorflow:Early stopping conditioned on metric `val_loss` which is not available. Available metrics are: loss,precision_1,recall_1,f1_score\n"
     ]
    },
    {
     "name": "stdout",
     "output_type": "stream",
     "text": [
      "82/82 [==============================] - 2s 7ms/step - loss: 1.2020 - precision_1: 0.8791 - recall_1: 0.5319 - f1_score: 0.7309\n",
      "Epoch 80/100\n",
      "79/82 [===========================>..] - ETA: 0s - loss: 1.1935 - precision_1: 0.8794 - recall_1: 0.5310 - f1_score: 0.7392WARNING:tensorflow:Early stopping conditioned on metric `val_loss` which is not available. Available metrics are: loss,precision_1,recall_1,f1_score\n"
     ]
    },
    {
     "name": "stderr",
     "output_type": "stream",
     "text": [
      "WARNING:tensorflow:Early stopping conditioned on metric `val_loss` which is not available. Available metrics are: loss,precision_1,recall_1,f1_score\n"
     ]
    },
    {
     "name": "stdout",
     "output_type": "stream",
     "text": [
      "82/82 [==============================] - 2s 8ms/step - loss: 1.1937 - precision_1: 0.8799 - recall_1: 0.5321 - f1_score: 0.7393\n",
      "Epoch 81/100\n",
      "74/82 [==========================>...] - ETA: 0s - loss: 1.1948 - precision_1: 0.8815 - recall_1: 0.5340 - f1_score: 0.7368WARNING:tensorflow:Early stopping conditioned on metric `val_loss` which is not available. Available metrics are: loss,precision_1,recall_1,f1_score\n"
     ]
    },
    {
     "name": "stderr",
     "output_type": "stream",
     "text": [
      "WARNING:tensorflow:Early stopping conditioned on metric `val_loss` which is not available. Available metrics are: loss,precision_1,recall_1,f1_score\n"
     ]
    },
    {
     "name": "stdout",
     "output_type": "stream",
     "text": [
      "82/82 [==============================] - 2s 7ms/step - loss: 1.1959 - precision_1: 0.8809 - recall_1: 0.5337 - f1_score: 0.7355\n",
      "Epoch 82/100\n",
      "81/82 [============================>.] - ETA: 0s - loss: 1.1944 - precision_1: 0.8766 - recall_1: 0.5360 - f1_score: 0.7344WARNING:tensorflow:Early stopping conditioned on metric `val_loss` which is not available. Available metrics are: loss,precision_1,recall_1,f1_score\n"
     ]
    },
    {
     "name": "stderr",
     "output_type": "stream",
     "text": [
      "WARNING:tensorflow:Early stopping conditioned on metric `val_loss` which is not available. Available metrics are: loss,precision_1,recall_1,f1_score\n"
     ]
    },
    {
     "name": "stdout",
     "output_type": "stream",
     "text": [
      "82/82 [==============================] - 2s 8ms/step - loss: 1.1951 - precision_1: 0.8766 - recall_1: 0.5360 - f1_score: 0.7342\n",
      "Epoch 83/100\n",
      "78/82 [===========================>..] - ETA: 0s - loss: 1.1805 - precision_1: 0.8776 - recall_1: 0.5394 - f1_score: 0.7423WARNING:tensorflow:Early stopping conditioned on metric `val_loss` which is not available. Available metrics are: loss,precision_1,recall_1,f1_score\n"
     ]
    },
    {
     "name": "stderr",
     "output_type": "stream",
     "text": [
      "WARNING:tensorflow:Early stopping conditioned on metric `val_loss` which is not available. Available metrics are: loss,precision_1,recall_1,f1_score\n"
     ]
    },
    {
     "name": "stdout",
     "output_type": "stream",
     "text": [
      "82/82 [==============================] - 2s 7ms/step - loss: 1.1840 - precision_1: 0.8771 - recall_1: 0.5381 - f1_score: 0.7402\n",
      "Epoch 84/100\n",
      "76/82 [==========================>...] - ETA: 0s - loss: 1.1795 - precision_1: 0.8853 - recall_1: 0.5401 - f1_score: 0.7434WARNING:tensorflow:Early stopping conditioned on metric `val_loss` which is not available. Available metrics are: loss,precision_1,recall_1,f1_score\n"
     ]
    },
    {
     "name": "stderr",
     "output_type": "stream",
     "text": [
      "WARNING:tensorflow:Early stopping conditioned on metric `val_loss` which is not available. Available metrics are: loss,precision_1,recall_1,f1_score\n"
     ]
    },
    {
     "name": "stdout",
     "output_type": "stream",
     "text": [
      "82/82 [==============================] - 2s 8ms/step - loss: 1.1822 - precision_1: 0.8827 - recall_1: 0.5392 - f1_score: 0.7416\n",
      "Epoch 85/100\n",
      "81/82 [============================>.] - ETA: 0s - loss: 1.1774 - precision_1: 0.8833 - recall_1: 0.5379 - f1_score: 0.7395WARNING:tensorflow:Early stopping conditioned on metric `val_loss` which is not available. Available metrics are: loss,precision_1,recall_1,f1_score\n"
     ]
    },
    {
     "name": "stderr",
     "output_type": "stream",
     "text": [
      "WARNING:tensorflow:Early stopping conditioned on metric `val_loss` which is not available. Available metrics are: loss,precision_1,recall_1,f1_score\n"
     ]
    },
    {
     "name": "stdout",
     "output_type": "stream",
     "text": [
      "82/82 [==============================] - 2s 8ms/step - loss: 1.1776 - precision_1: 0.8829 - recall_1: 0.5378 - f1_score: 0.7390\n",
      "Epoch 86/100\n",
      "80/82 [============================>.] - ETA: 0s - loss: 1.1764 - precision_1: 0.8858 - recall_1: 0.5453 - f1_score: 0.7433WARNING:tensorflow:Early stopping conditioned on metric `val_loss` which is not available. Available metrics are: loss,precision_1,recall_1,f1_score\n"
     ]
    },
    {
     "name": "stderr",
     "output_type": "stream",
     "text": [
      "WARNING:tensorflow:Early stopping conditioned on metric `val_loss` which is not available. Available metrics are: loss,precision_1,recall_1,f1_score\n"
     ]
    },
    {
     "name": "stdout",
     "output_type": "stream",
     "text": [
      "82/82 [==============================] - 2s 7ms/step - loss: 1.1751 - precision_1: 0.8865 - recall_1: 0.5459 - f1_score: 0.7438\n",
      "Epoch 87/100\n",
      "77/82 [===========================>..] - ETA: 0s - loss: 1.1721 - precision_1: 0.8826 - recall_1: 0.5475 - f1_score: 0.7454WARNING:tensorflow:Early stopping conditioned on metric `val_loss` which is not available. Available metrics are: loss,precision_1,recall_1,f1_score\n"
     ]
    },
    {
     "name": "stderr",
     "output_type": "stream",
     "text": [
      "WARNING:tensorflow:Early stopping conditioned on metric `val_loss` which is not available. Available metrics are: loss,precision_1,recall_1,f1_score\n"
     ]
    },
    {
     "name": "stdout",
     "output_type": "stream",
     "text": [
      "82/82 [==============================] - 2s 8ms/step - loss: 1.1749 - precision_1: 0.8804 - recall_1: 0.5452 - f1_score: 0.7436\n",
      "Epoch 88/100\n",
      "79/82 [===========================>..] - ETA: 0s - loss: 1.1690 - precision_1: 0.8801 - recall_1: 0.5492 - f1_score: 0.7443WARNING:tensorflow:Early stopping conditioned on metric `val_loss` which is not available. Available metrics are: loss,precision_1,recall_1,f1_score\n"
     ]
    },
    {
     "name": "stderr",
     "output_type": "stream",
     "text": [
      "WARNING:tensorflow:Early stopping conditioned on metric `val_loss` which is not available. Available metrics are: loss,precision_1,recall_1,f1_score\n"
     ]
    },
    {
     "name": "stdout",
     "output_type": "stream",
     "text": [
      "82/82 [==============================] - 2s 7ms/step - loss: 1.1688 - precision_1: 0.8797 - recall_1: 0.5499 - f1_score: 0.7444\n",
      "Epoch 89/100\n",
      "79/82 [===========================>..] - ETA: 0s - loss: 1.1612 - precision_1: 0.8849 - recall_1: 0.5519 - f1_score: 0.7480WARNING:tensorflow:Early stopping conditioned on metric `val_loss` which is not available. Available metrics are: loss,precision_1,recall_1,f1_score\n"
     ]
    },
    {
     "name": "stderr",
     "output_type": "stream",
     "text": [
      "WARNING:tensorflow:Early stopping conditioned on metric `val_loss` which is not available. Available metrics are: loss,precision_1,recall_1,f1_score\n"
     ]
    },
    {
     "name": "stdout",
     "output_type": "stream",
     "text": [
      "82/82 [==============================] - 2s 8ms/step - loss: 1.1652 - precision_1: 0.8833 - recall_1: 0.5509 - f1_score: 0.7469\n",
      "Epoch 90/100\n",
      "75/82 [==========================>...] - ETA: 0s - loss: 1.1544 - precision_1: 0.8843 - recall_1: 0.5564 - f1_score: 0.7505WARNING:tensorflow:Early stopping conditioned on metric `val_loss` which is not available. Available metrics are: loss,precision_1,recall_1,f1_score\n"
     ]
    },
    {
     "name": "stderr",
     "output_type": "stream",
     "text": [
      "WARNING:tensorflow:Early stopping conditioned on metric `val_loss` which is not available. Available metrics are: loss,precision_1,recall_1,f1_score\n"
     ]
    },
    {
     "name": "stdout",
     "output_type": "stream",
     "text": [
      "82/82 [==============================] - 2s 7ms/step - loss: 1.1635 - precision_1: 0.8822 - recall_1: 0.5518 - f1_score: 0.7468\n",
      "Epoch 91/100\n",
      "79/82 [===========================>..] - ETA: 0s - loss: 1.1536 - precision_1: 0.8880 - recall_1: 0.5535 - f1_score: 0.7506WARNING:tensorflow:Early stopping conditioned on metric `val_loss` which is not available. Available metrics are: loss,precision_1,recall_1,f1_score\n"
     ]
    },
    {
     "name": "stderr",
     "output_type": "stream",
     "text": [
      "WARNING:tensorflow:Early stopping conditioned on metric `val_loss` which is not available. Available metrics are: loss,precision_1,recall_1,f1_score\n"
     ]
    },
    {
     "name": "stdout",
     "output_type": "stream",
     "text": [
      "82/82 [==============================] - 2s 7ms/step - loss: 1.1533 - precision_1: 0.8885 - recall_1: 0.5526 - f1_score: 0.7508\n",
      "Epoch 92/100\n",
      "75/82 [==========================>...] - ETA: 0s - loss: 1.1535 - precision_1: 0.8873 - recall_1: 0.5558 - f1_score: 0.7534WARNING:tensorflow:Early stopping conditioned on metric `val_loss` which is not available. Available metrics are: loss,precision_1,recall_1,f1_score\n"
     ]
    },
    {
     "name": "stderr",
     "output_type": "stream",
     "text": [
      "WARNING:tensorflow:Early stopping conditioned on metric `val_loss` which is not available. Available metrics are: loss,precision_1,recall_1,f1_score\n"
     ]
    },
    {
     "name": "stdout",
     "output_type": "stream",
     "text": [
      "82/82 [==============================] - 2s 7ms/step - loss: 1.1554 - precision_1: 0.8859 - recall_1: 0.5550 - f1_score: 0.7532\n",
      "Epoch 93/100\n",
      "74/82 [==========================>...] - ETA: 0s - loss: 1.1547 - precision_1: 0.8852 - recall_1: 0.5501 - f1_score: 0.7496WARNING:tensorflow:Early stopping conditioned on metric `val_loss` which is not available. Available metrics are: loss,precision_1,recall_1,f1_score\n"
     ]
    },
    {
     "name": "stderr",
     "output_type": "stream",
     "text": [
      "WARNING:tensorflow:Early stopping conditioned on metric `val_loss` which is not available. Available metrics are: loss,precision_1,recall_1,f1_score\n"
     ]
    },
    {
     "name": "stdout",
     "output_type": "stream",
     "text": [
      "82/82 [==============================] - 2s 6ms/step - loss: 1.1526 - precision_1: 0.8861 - recall_1: 0.5501 - f1_score: 0.7511\n",
      "Epoch 94/100\n",
      "80/82 [============================>.] - ETA: 0s - loss: 1.1433 - precision_1: 0.8899 - recall_1: 0.5602 - f1_score: 0.7561WARNING:tensorflow:Early stopping conditioned on metric `val_loss` which is not available. Available metrics are: loss,precision_1,recall_1,f1_score\n"
     ]
    },
    {
     "name": "stderr",
     "output_type": "stream",
     "text": [
      "WARNING:tensorflow:Early stopping conditioned on metric `val_loss` which is not available. Available metrics are: loss,precision_1,recall_1,f1_score\n"
     ]
    },
    {
     "name": "stdout",
     "output_type": "stream",
     "text": [
      "82/82 [==============================] - 2s 7ms/step - loss: 1.1442 - precision_1: 0.8890 - recall_1: 0.5600 - f1_score: 0.7553\n",
      "Epoch 95/100\n",
      "75/82 [==========================>...] - ETA: 0s - loss: 1.1397 - precision_1: 0.8884 - recall_1: 0.5592 - f1_score: 0.7547WARNING:tensorflow:Early stopping conditioned on metric `val_loss` which is not available. Available metrics are: loss,precision_1,recall_1,f1_score\n"
     ]
    },
    {
     "name": "stderr",
     "output_type": "stream",
     "text": [
      "WARNING:tensorflow:Early stopping conditioned on metric `val_loss` which is not available. Available metrics are: loss,precision_1,recall_1,f1_score\n"
     ]
    },
    {
     "name": "stdout",
     "output_type": "stream",
     "text": [
      "82/82 [==============================] - 2s 7ms/step - loss: 1.1438 - precision_1: 0.8887 - recall_1: 0.5588 - f1_score: 0.7545\n",
      "Epoch 96/100\n",
      "78/82 [===========================>..] - ETA: 0s - loss: 1.1467 - precision_1: 0.8831 - recall_1: 0.5574 - f1_score: 0.7518WARNING:tensorflow:Early stopping conditioned on metric `val_loss` which is not available. Available metrics are: loss,precision_1,recall_1,f1_score\n"
     ]
    },
    {
     "name": "stderr",
     "output_type": "stream",
     "text": [
      "WARNING:tensorflow:Early stopping conditioned on metric `val_loss` which is not available. Available metrics are: loss,precision_1,recall_1,f1_score\n"
     ]
    },
    {
     "name": "stdout",
     "output_type": "stream",
     "text": [
      "82/82 [==============================] - 2s 8ms/step - loss: 1.1451 - precision_1: 0.8839 - recall_1: 0.5569 - f1_score: 0.7527\n",
      "Epoch 97/100\n",
      "81/82 [============================>.] - ETA: 0s - loss: 1.1400 - precision_1: 0.8892 - recall_1: 0.5591 - f1_score: 0.7559WARNING:tensorflow:Early stopping conditioned on metric `val_loss` which is not available. Available metrics are: loss,precision_1,recall_1,f1_score\n"
     ]
    },
    {
     "name": "stderr",
     "output_type": "stream",
     "text": [
      "WARNING:tensorflow:Early stopping conditioned on metric `val_loss` which is not available. Available metrics are: loss,precision_1,recall_1,f1_score\n"
     ]
    },
    {
     "name": "stdout",
     "output_type": "stream",
     "text": [
      "82/82 [==============================] - 2s 7ms/step - loss: 1.1406 - precision_1: 0.8894 - recall_1: 0.5590 - f1_score: 0.7557\n",
      "Epoch 98/100\n",
      "80/82 [============================>.] - ETA: 0s - loss: 1.1326 - precision_1: 0.8893 - recall_1: 0.5642 - f1_score: 0.7605WARNING:tensorflow:Early stopping conditioned on metric `val_loss` which is not available. Available metrics are: loss,precision_1,recall_1,f1_score\n"
     ]
    },
    {
     "name": "stderr",
     "output_type": "stream",
     "text": [
      "WARNING:tensorflow:Early stopping conditioned on metric `val_loss` which is not available. Available metrics are: loss,precision_1,recall_1,f1_score\n"
     ]
    },
    {
     "name": "stdout",
     "output_type": "stream",
     "text": [
      "82/82 [==============================] - 2s 8ms/step - loss: 1.1334 - precision_1: 0.8884 - recall_1: 0.5641 - f1_score: 0.7597\n",
      "Epoch 99/100\n",
      "82/82 [==============================] - ETA: 0s - loss: 1.1307 - precision_1: 0.8895 - recall_1: 0.5628 - f1_score: 0.7586WARNING:tensorflow:Early stopping conditioned on metric `val_loss` which is not available. Available metrics are: loss,precision_1,recall_1,f1_score\n"
     ]
    },
    {
     "name": "stderr",
     "output_type": "stream",
     "text": [
      "WARNING:tensorflow:Early stopping conditioned on metric `val_loss` which is not available. Available metrics are: loss,precision_1,recall_1,f1_score\n"
     ]
    },
    {
     "name": "stdout",
     "output_type": "stream",
     "text": [
      "82/82 [==============================] - 2s 8ms/step - loss: 1.1307 - precision_1: 0.8895 - recall_1: 0.5628 - f1_score: 0.7586\n",
      "Epoch 100/100\n",
      "78/82 [===========================>..] - ETA: 0s - loss: 1.1280 - precision_1: 0.8891 - recall_1: 0.5695 - f1_score: 0.7603WARNING:tensorflow:Early stopping conditioned on metric `val_loss` which is not available. Available metrics are: loss,precision_1,recall_1,f1_score\n"
     ]
    },
    {
     "name": "stderr",
     "output_type": "stream",
     "text": [
      "WARNING:tensorflow:Early stopping conditioned on metric `val_loss` which is not available. Available metrics are: loss,precision_1,recall_1,f1_score\n"
     ]
    },
    {
     "name": "stdout",
     "output_type": "stream",
     "text": [
      "82/82 [==============================] - 2s 8ms/step - loss: 1.1286 - precision_1: 0.8892 - recall_1: 0.5698 - f1_score: 0.7598\n",
      "train executed in 199.53079915046692 seconds\n",
      "==> Saving model to .\\output\\1707209408 ...\n"
     ]
    },
    {
     "name": "stderr",
     "output_type": "stream",
     "text": [
      "C:\\Users\\26387\\anaconda3\\envs\\tfkeras\\Lib\\site-packages\\keras\\src\\engine\\training.py:3103: UserWarning: You are saving your model as an HDF5 file via `model.save()`. This file format is considered legacy. We recommend using instead the native Keras format, e.g. `model.save('my_model.keras')`.\n",
      "  saving_api.save_model(\n"
     ]
    },
    {
     "data": {
      "image/png": "[encoded data removed]",
      "text/plain": [
       "<Figure size 640x480 with 1 Axes>"
      ]
     },
     "metadata": {},
     "output_type": "display_data"
    },
    {
     "data": {
      "image/png": "[encoded data removed]",
      "text/plain": [
       "<Figure size 640x480 with 1 Axes>"
      ]
     },
     "metadata": {},
     "output_type": "display_data"
    }
   ],
   "source": [
    "set_seeds(config.SEED)\n",
    "# initialize the model\n",
    "dense_model = DenseClassifier(input_shape=config.MODELS.get(config.MODEL_NAME).get(\"in_dim\"),\n",
    "num_classes=config.N_CLASSES,dropout=config.DROPOUT,l2_regularization=config.L2_REGULARIZATION,)\n",
    "# initialize the trainer\n",
    "trainer = ModelTrainer(\n",
    "    dense_model, config.LEARNING_RATE, export_path=config.EXPORT_PATH\n",
    ")\n",
    "# compile the model\n",
    "trainer.compile()\n",
    "# get train, validation and test splits\n",
    "train_split = pd.read_csv(\n",
    "    f\"{config.PARTITIONS_PATH}\\\\split01_train.csv\", header=None, names=[\"filename\"]\n",
    ")\n",
    "##train/valid split\n",
    "train_split=train_split.sample(frac=0.7)\n",
    "valid_split=train_split.drop(train_split.index)\n",
    "# prepare dataloaders\n",
    "trainloader = AudioDataLoader(\n",
    "    train_split[\"filename\"].tolist(),\n",
    "    batch_size=config.BATCH_SIZE,\n",
    "    dataset=\"train\",\n",
    "    shuffle=True,\n",
    ")\n",
    "# generate train and test datasets\n",
    "train_dataset = trainloader.create_dataset()\n",
    "# start training\n",
    "trainer.train(train_dataset, epochs=config.EPOCHS)\n",
    "# save the model\n",
    "trainer.save_model()\n",
    "# save the hyperparameters\n",
    "export_hyperparams(trainer.runid, f\"{trainer.export_path}\\\\hyperparams.json\")\n",
    "####get the Image representation for training\n",
    "import json\n",
    "import numpy as np\n",
    "import matplotlib.pyplot as plt\n",
    "with open(r'output\\parameter\\training.json', 'r') as fp:\n",
    "    json_data = json.load(fp)\n",
    "    y0 = json_data['loss']\n",
    "    y1 = json_data['precision']\n",
    "    y2 = json_data['f1_score']\n",
    "    y3 = json_data['recall']\n",
    "    x = np.arange(0, 100)\n",
    "    plt.plot(x, y1, label='precision', c='r')\n",
    "    plt.plot(x, y2, label='f1_score', c='g')\n",
    "    plt.plot(x, y3, label='recall', c='b')\n",
    "    plt.scatter(99, y1[99], c='r')\n",
    "    plt.scatter(99, y2[99], c='g')\n",
    "    plt.scatter(99, y3[99], c='b')\n",
    "    plt.text(99, y1[99], y1[99])\n",
    "    plt.text(99, y2[99], y2[99])\n",
    "    plt.text(99, y3[99], y3[99])\n",
    "    plt.xlabel('epoch')\n",
    "    plt.ylabel('metrics')\n",
    "    plt.legend()\n",
    "    plt.show()\n",
    "    plt.plot(x, y0)\n",
    "    plt.title('loss')\n",
    "    plt.show()"
   ]
  },
  {
   "cell_type": "code",
   "execution_count": null,
   "id": "b6887bb8-6c20-4915-ab18-960c67756d8d",
   "metadata": {},
   "outputs": [],
   "source": []
  }
 ],
 "metadata": {
  "kernelspec": {
   "display_name": "Python 3 (ipykernel)",
   "language": "python",
   "name": "python3"
  },
  "language_info": {
   "codemirror_mode": {
    "name": "ipython",
    "version": 3
   },
   "file_extension": ".py",
   "mimetype": "text/x-python",
   "name": "python",
   "nbconvert_exporter": "python",
   "pygments_lexer": "ipython3",
   "version": "3.9.6"
  },
  "toc": {
   "base_numbering": 1,
   "nav_menu": {},
   "number_sections": true,
   "sideBar": true,
   "skip_h1_title": false,
   "title_cell": "Table of Contents",
   "title_sidebar": "Contents",
   "toc_cell": false,
   "toc_position": {},
   "toc_section_display": true,
   "toc_window_display": false
  }
 },
 "nbformat": 4,
 "nbformat_minor": 5
}
